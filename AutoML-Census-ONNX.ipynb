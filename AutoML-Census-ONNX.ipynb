{
 "cells": [
  {
   "cell_type": "code",
   "execution_count": 88,
   "metadata": {},
   "outputs": [],
   "source": [
    "#! git pull"
   ]
  },
  {
   "cell_type": "code",
   "execution_count": 89,
   "metadata": {
    "gather": {
     "logged": 1599124208071
    }
   },
   "outputs": [
    {
     "name": "stdout",
     "output_type": "stream",
     "text": [
      "SDK version: 1.14.0\n"
     ]
    }
   ],
   "source": [
    "from azureml.core import Experiment, Run, Workspace\n",
    "import azureml.core\n",
    "\n",
    "# Check core SDK version number\n",
    "print(\"SDK version:\", azureml.core.VERSION)"
   ]
  },
  {
   "cell_type": "code",
   "execution_count": 90,
   "metadata": {
    "gather": {
     "logged": 1599124215817
    }
   },
   "outputs": [
    {
     "data": {
      "text/html": [
       "<div>\n",
       "<style scoped>\n",
       "    .dataframe tbody tr th:only-of-type {\n",
       "        vertical-align: middle;\n",
       "    }\n",
       "\n",
       "    .dataframe tbody tr th {\n",
       "        vertical-align: top;\n",
       "    }\n",
       "\n",
       "    .dataframe thead th {\n",
       "        text-align: right;\n",
       "    }\n",
       "</style>\n",
       "<table border=\"1\" class=\"dataframe\">\n",
       "  <thead>\n",
       "    <tr style=\"text-align: right;\">\n",
       "      <th></th>\n",
       "      <th></th>\n",
       "    </tr>\n",
       "  </thead>\n",
       "  <tbody>\n",
       "    <tr>\n",
       "      <th>Subscription ID</th>\n",
       "      <td>6a0ec27b-1203-46fe-ade0-8c3003d5e4bc</td>\n",
       "    </tr>\n",
       "    <tr>\n",
       "      <th>Workspace</th>\n",
       "      <td>MLServiceWrokspace</td>\n",
       "    </tr>\n",
       "    <tr>\n",
       "      <th>Resource Group</th>\n",
       "      <td>MLServiceWrokspace</td>\n",
       "    </tr>\n",
       "    <tr>\n",
       "      <th>Location</th>\n",
       "      <td>northeurope</td>\n",
       "    </tr>\n",
       "    <tr>\n",
       "      <th>Experiment Name</th>\n",
       "      <td>autoMLCensusRemoteONNX04</td>\n",
       "    </tr>\n",
       "  </tbody>\n",
       "</table>\n",
       "</div>"
      ],
      "text/plain": [
       "                                                     \n",
       "Subscription ID  6a0ec27b-1203-46fe-ade0-8c3003d5e4bc\n",
       "Workspace        MLServiceWrokspace                  \n",
       "Resource Group   MLServiceWrokspace                  \n",
       "Location         northeurope                         \n",
       "Experiment Name  autoMLCensusRemoteONNX04            "
      ]
     },
     "execution_count": 90,
     "metadata": {},
     "output_type": "execute_result"
    }
   ],
   "source": [
    "import pandas as pd\n",
    "\n",
    "ws = Workspace.from_config()\n",
    "\n",
    "# choose a name for experiment\n",
    "experiment_name = 'autoMLCensusRemoteONNX04'\n",
    "\n",
    "experiment=Experiment(ws, experiment_name)\n",
    "\n",
    "output = {}\n",
    "output['Subscription ID'] = ws.subscription_id\n",
    "output['Workspace'] = ws.name\n",
    "output['Resource Group'] = ws.resource_group\n",
    "output['Location'] = ws.location\n",
    "output['Experiment Name'] = experiment.name\n",
    "pd.set_option('display.max_colwidth', -1)\n",
    "outputDf = pd.DataFrame(data = output, index = [''])\n",
    "outputDf.T\n"
   ]
  },
  {
   "cell_type": "code",
   "execution_count": 91,
   "metadata": {
    "gather": {
     "logged": 1599124238286
    }
   },
   "outputs": [
    {
     "data": {
      "text/plain": [
       "pandas.core.frame.DataFrame"
      ]
     },
     "execution_count": 91,
     "metadata": {},
     "output_type": "execute_result"
    }
   ],
   "source": [
    "import numpy as np\n",
    "import matplotlib.pyplot as plt\n",
    "\n",
    "from sklearn import tree\n",
    "from sklearn.model_selection import train_test_split\n",
    "from sklearn.metrics import accuracy_score\n",
    "#from sklearn.externals import joblib\n",
    "import joblib\n",
    "from sklearn.datasets import load_iris\n",
    "import matplotlib.pyplot as plt\n",
    "from sklearn.metrics import confusion_matrix\n",
    "import logging\n",
    "import azureml.core\n",
    "from azureml.core.experiment import Experiment\n",
    "from azureml.core.workspace import Workspace\n",
    "from azureml.core.dataset import Dataset\n",
    "from azureml.train.automl import AutoMLConfig\n",
    "from azureml.explain.model._internal.explanation_client import ExplanationClient\n",
    "from shap.datasets import adult\n",
    "\n",
    "X, y = adult(display=True)\n",
    "type(X)"
   ]
  },
  {
   "cell_type": "code",
   "execution_count": 92,
   "metadata": {
    "gather": {
     "logged": 1599124238530
    }
   },
   "outputs": [
    {
     "data": {
      "text/html": [
       "<div>\n",
       "<style scoped>\n",
       "    .dataframe tbody tr th:only-of-type {\n",
       "        vertical-align: middle;\n",
       "    }\n",
       "\n",
       "    .dataframe tbody tr th {\n",
       "        vertical-align: top;\n",
       "    }\n",
       "\n",
       "    .dataframe thead th {\n",
       "        text-align: right;\n",
       "    }\n",
       "</style>\n",
       "<table border=\"1\" class=\"dataframe\">\n",
       "  <thead>\n",
       "    <tr style=\"text-align: right;\">\n",
       "      <th></th>\n",
       "      <th>Age</th>\n",
       "      <th>Workclass</th>\n",
       "      <th>Education-Num</th>\n",
       "      <th>Marital Status</th>\n",
       "      <th>Occupation</th>\n",
       "      <th>Relationship</th>\n",
       "      <th>Race</th>\n",
       "      <th>Sex</th>\n",
       "      <th>Capital Gain</th>\n",
       "      <th>Capital Loss</th>\n",
       "      <th>Hours per week</th>\n",
       "      <th>Country</th>\n",
       "      <th>Loan</th>\n",
       "    </tr>\n",
       "  </thead>\n",
       "  <tbody>\n",
       "    <tr>\n",
       "      <th>0</th>\n",
       "      <td>39.00</td>\n",
       "      <td>State-gov</td>\n",
       "      <td>13.00</td>\n",
       "      <td>Never-married</td>\n",
       "      <td>Adm-clerical</td>\n",
       "      <td>Not-in-family</td>\n",
       "      <td>White</td>\n",
       "      <td>Male</td>\n",
       "      <td>2174.00</td>\n",
       "      <td>0.00</td>\n",
       "      <td>40.00</td>\n",
       "      <td>United-States</td>\n",
       "      <td>False</td>\n",
       "    </tr>\n",
       "    <tr>\n",
       "      <th>1</th>\n",
       "      <td>50.00</td>\n",
       "      <td>Self-emp-not-inc</td>\n",
       "      <td>13.00</td>\n",
       "      <td>Married-civ-spouse</td>\n",
       "      <td>Exec-managerial</td>\n",
       "      <td>Husband</td>\n",
       "      <td>White</td>\n",
       "      <td>Male</td>\n",
       "      <td>0.00</td>\n",
       "      <td>0.00</td>\n",
       "      <td>13.00</td>\n",
       "      <td>United-States</td>\n",
       "      <td>False</td>\n",
       "    </tr>\n",
       "    <tr>\n",
       "      <th>2</th>\n",
       "      <td>38.00</td>\n",
       "      <td>Private</td>\n",
       "      <td>9.00</td>\n",
       "      <td>Divorced</td>\n",
       "      <td>Handlers-cleaners</td>\n",
       "      <td>Not-in-family</td>\n",
       "      <td>White</td>\n",
       "      <td>Male</td>\n",
       "      <td>0.00</td>\n",
       "      <td>0.00</td>\n",
       "      <td>40.00</td>\n",
       "      <td>United-States</td>\n",
       "      <td>False</td>\n",
       "    </tr>\n",
       "    <tr>\n",
       "      <th>3</th>\n",
       "      <td>53.00</td>\n",
       "      <td>Private</td>\n",
       "      <td>7.00</td>\n",
       "      <td>Married-civ-spouse</td>\n",
       "      <td>Handlers-cleaners</td>\n",
       "      <td>Husband</td>\n",
       "      <td>Black</td>\n",
       "      <td>Male</td>\n",
       "      <td>0.00</td>\n",
       "      <td>0.00</td>\n",
       "      <td>40.00</td>\n",
       "      <td>United-States</td>\n",
       "      <td>False</td>\n",
       "    </tr>\n",
       "    <tr>\n",
       "      <th>4</th>\n",
       "      <td>28.00</td>\n",
       "      <td>Private</td>\n",
       "      <td>13.00</td>\n",
       "      <td>Married-civ-spouse</td>\n",
       "      <td>Prof-specialty</td>\n",
       "      <td>Wife</td>\n",
       "      <td>Black</td>\n",
       "      <td>Female</td>\n",
       "      <td>0.00</td>\n",
       "      <td>0.00</td>\n",
       "      <td>40.00</td>\n",
       "      <td>Cuba</td>\n",
       "      <td>False</td>\n",
       "    </tr>\n",
       "    <tr>\n",
       "      <th>5</th>\n",
       "      <td>37.00</td>\n",
       "      <td>Private</td>\n",
       "      <td>14.00</td>\n",
       "      <td>Married-civ-spouse</td>\n",
       "      <td>Exec-managerial</td>\n",
       "      <td>Wife</td>\n",
       "      <td>White</td>\n",
       "      <td>Female</td>\n",
       "      <td>0.00</td>\n",
       "      <td>0.00</td>\n",
       "      <td>40.00</td>\n",
       "      <td>United-States</td>\n",
       "      <td>False</td>\n",
       "    </tr>\n",
       "    <tr>\n",
       "      <th>6</th>\n",
       "      <td>49.00</td>\n",
       "      <td>Private</td>\n",
       "      <td>5.00</td>\n",
       "      <td>Married-spouse-absent</td>\n",
       "      <td>Other-service</td>\n",
       "      <td>Not-in-family</td>\n",
       "      <td>Black</td>\n",
       "      <td>Female</td>\n",
       "      <td>0.00</td>\n",
       "      <td>0.00</td>\n",
       "      <td>16.00</td>\n",
       "      <td>Jamaica</td>\n",
       "      <td>False</td>\n",
       "    </tr>\n",
       "    <tr>\n",
       "      <th>7</th>\n",
       "      <td>52.00</td>\n",
       "      <td>Self-emp-not-inc</td>\n",
       "      <td>9.00</td>\n",
       "      <td>Married-civ-spouse</td>\n",
       "      <td>Exec-managerial</td>\n",
       "      <td>Husband</td>\n",
       "      <td>White</td>\n",
       "      <td>Male</td>\n",
       "      <td>0.00</td>\n",
       "      <td>0.00</td>\n",
       "      <td>45.00</td>\n",
       "      <td>United-States</td>\n",
       "      <td>True</td>\n",
       "    </tr>\n",
       "    <tr>\n",
       "      <th>8</th>\n",
       "      <td>31.00</td>\n",
       "      <td>Private</td>\n",
       "      <td>14.00</td>\n",
       "      <td>Never-married</td>\n",
       "      <td>Prof-specialty</td>\n",
       "      <td>Not-in-family</td>\n",
       "      <td>White</td>\n",
       "      <td>Female</td>\n",
       "      <td>14084.00</td>\n",
       "      <td>0.00</td>\n",
       "      <td>50.00</td>\n",
       "      <td>United-States</td>\n",
       "      <td>True</td>\n",
       "    </tr>\n",
       "    <tr>\n",
       "      <th>9</th>\n",
       "      <td>42.00</td>\n",
       "      <td>Private</td>\n",
       "      <td>13.00</td>\n",
       "      <td>Married-civ-spouse</td>\n",
       "      <td>Exec-managerial</td>\n",
       "      <td>Husband</td>\n",
       "      <td>White</td>\n",
       "      <td>Male</td>\n",
       "      <td>5178.00</td>\n",
       "      <td>0.00</td>\n",
       "      <td>40.00</td>\n",
       "      <td>United-States</td>\n",
       "      <td>True</td>\n",
       "    </tr>\n",
       "  </tbody>\n",
       "</table>\n",
       "</div>"
      ],
      "text/plain": [
       "    Age          Workclass  Education-Num          Marital Status  \\\n",
       "0 39.00   State-gov        13.00            Never-married           \n",
       "1 50.00   Self-emp-not-inc 13.00            Married-civ-spouse      \n",
       "2 38.00   Private          9.00             Divorced                \n",
       "3 53.00   Private          7.00             Married-civ-spouse      \n",
       "4 28.00   Private          13.00            Married-civ-spouse      \n",
       "5 37.00   Private          14.00            Married-civ-spouse      \n",
       "6 49.00   Private          5.00             Married-spouse-absent   \n",
       "7 52.00   Self-emp-not-inc 9.00             Married-civ-spouse      \n",
       "8 31.00   Private          14.00            Never-married           \n",
       "9 42.00   Private          13.00            Married-civ-spouse      \n",
       "\n",
       "           Occupation    Relationship    Race      Sex  Capital Gain  \\\n",
       "0   Adm-clerical        Not-in-family   White   Male   2174.00         \n",
       "1   Exec-managerial     Husband         White   Male   0.00            \n",
       "2   Handlers-cleaners   Not-in-family   White   Male   0.00            \n",
       "3   Handlers-cleaners   Husband         Black   Male   0.00            \n",
       "4   Prof-specialty      Wife            Black   Female 0.00            \n",
       "5   Exec-managerial     Wife            White   Female 0.00            \n",
       "6   Other-service       Not-in-family   Black   Female 0.00            \n",
       "7   Exec-managerial     Husband         White   Male   0.00            \n",
       "8   Prof-specialty      Not-in-family   White   Female 14084.00        \n",
       "9   Exec-managerial     Husband         White   Male   5178.00         \n",
       "\n",
       "   Capital Loss  Hours per week         Country   Loan  \n",
       "0 0.00          40.00             United-States  False  \n",
       "1 0.00          13.00             United-States  False  \n",
       "2 0.00          40.00             United-States  False  \n",
       "3 0.00          40.00             United-States  False  \n",
       "4 0.00          40.00             Cuba           False  \n",
       "5 0.00          40.00             United-States  False  \n",
       "6 0.00          16.00             Jamaica        False  \n",
       "7 0.00          45.00             United-States  True   \n",
       "8 0.00          50.00             United-States  True   \n",
       "9 0.00          40.00             United-States  True   "
      ]
     },
     "execution_count": 92,
     "metadata": {},
     "output_type": "execute_result"
    }
   ],
   "source": [
    "X['Loan'] = y\n",
    "X.head(10)"
   ]
  },
  {
   "cell_type": "code",
   "execution_count": 93,
   "metadata": {
    "gather": {
     "logged": 1599124238741
    }
   },
   "outputs": [],
   "source": [
    "train, test = train_test_split(X, test_size=0.2, random_state=42, shuffle=True)"
   ]
  },
  {
   "cell_type": "code",
   "execution_count": 94,
   "metadata": {
    "gather": {
     "logged": 1599124238803
    }
   },
   "outputs": [
    {
     "name": "stdout",
     "output_type": "stream",
     "text": [
      "26048\n",
      "6513\n"
     ]
    }
   ],
   "source": [
    "print(train[\"Age\"].count())\n",
    "print(test[\"Age\"].count())"
   ]
  },
  {
   "cell_type": "code",
   "execution_count": 95,
   "metadata": {},
   "outputs": [],
   "source": [
    "#Train on a cluster"
   ]
  },
  {
   "cell_type": "code",
   "execution_count": 96,
   "metadata": {},
   "outputs": [
    {
     "name": "stdout",
     "output_type": "stream",
     "text": [
      "found compute target. just use it. automlcluster\n"
     ]
    }
   ],
   "source": [
    "from azureml.core.compute import AmlCompute\n",
    "from azureml.core.compute import ComputeTarget\n",
    "\n",
    "# choose a name for your cluster\n",
    "AmlCompute_cluster_name = \"automlcluster\"\n",
    "cluster_min_nodes = 0\n",
    "cluster_max_nodes = 20\n",
    "vm_size = \"STANDARD_D2_V2\"\n",
    "autoscale_enabled = True\n",
    "\n",
    "\n",
    "if AmlCompute_cluster_name in ws.compute_targets:\n",
    "    compute_target = ws.compute_targets[AmlCompute_cluster_name]\n",
    "    if compute_target and type(compute_target) is AmlCompute:\n",
    "        print('found compute target. just use it. ' + AmlCompute_cluster_name)\n",
    "else:\n",
    "    print('creating a new compute target...')\n",
    "    provisioning_config = AmlCompute.provisioning_configuration(vm_size = vm_size,\n",
    "                                                                min_nodes = cluster_min_nodes, \n",
    "                                                                max_nodes = cluster_max_nodes,\n",
    "                                                                idle_seconds_before_scaledown=120)\n",
    "    \n",
    "    # create the cluster\n",
    "    compute_target = ComputeTarget.create(ws, AmlCompute_cluster_name, provisioning_config)\n",
    "    \n",
    "    # can poll for a minimum number of nodes and for a specific timeout. \n",
    "    # if no min node count is provided it will use the scale settings for the cluster\n",
    "    compute_target.wait_for_completion(show_output=True, min_node_count=None, timeout_in_minutes=20)\n",
    "    \n",
    "     # For a more detailed view of current BatchAI cluster status, use the 'status' property    \n",
    "    print(compute_target.status.serialize())\n",
    "\n"
   ]
  },
  {
   "cell_type": "code",
   "execution_count": 97,
   "metadata": {},
   "outputs": [
    {
     "name": "stdout",
     "output_type": "stream",
     "text": [
      "Uploading an estimated of 2 files\n",
      "Uploading ./dataCensus/X_trainCensus.csv\n",
      "Uploaded ./dataCensus/X_trainCensus.csv, 1 files out of an estimated total of 2\n",
      "Uploading ./dataCensus/y_trainCensus.csv\n",
      "Uploaded ./dataCensus/y_trainCensus.csv, 2 files out of an estimated total of 2\n",
      "Uploaded 2 files\n"
     ]
    },
    {
     "data": {
      "text/plain": [
       "$AZUREML_DATAREFERENCE_d88abfee192242fb9bc971dd49fe3ce4"
      ]
     },
     "execution_count": 97,
     "metadata": {},
     "output_type": "execute_result"
    }
   ],
   "source": [
    "#Load the data into a datastore so the cluster can pick it up later\n",
    "project_folder = './project'\n",
    "\n",
    "if not os.path.isdir('dataCensus'):\n",
    "    os.mkdir('dataCensus')\n",
    "    \n",
    "if not os.path.exists(project_folder):\n",
    "    os.makedirs(project_folder)\n",
    "\n",
    "pd.DataFrame(train).to_csv(\"dataCensus/X_trainCensus.csv\", index=False)\n",
    "pd.DataFrame(test).to_csv(\"dataCensus/y_trainCensus.csv\", index=False)\n",
    "\n",
    "ds = ws.get_default_datastore()\n",
    "ds.upload(src_dir='./dataCensus', target_path='storesdataCensus', overwrite=True, show_progress=True)"
   ]
  },
  {
   "cell_type": "code",
   "execution_count": 184,
   "metadata": {},
   "outputs": [],
   "source": [
    "#Get the pointers to the data\n",
    "datastore = ws.get_default_datastore()\n",
    "from azureml.core import Dataset\n",
    "X = Dataset.Tabular.from_delimited_files(path = [(datastore, 'storesdataCensus/X_trainCensus.csv')])\n",
    "y = Dataset.Tabular.from_delimited_files(path = [(datastore, 'storesdataCensus/y_trainCensus.csv')])\n",
    "\n",
    "#X = dprep.auto_read_file(path=ds.path('storesdata/X_train.csv'))\n",
    "#y = dprep.auto_read_file(path=ds.path('storesdata/y_train.csv'))"
   ]
  },
  {
   "cell_type": "code",
   "execution_count": 185,
   "metadata": {
    "scrolled": true
   },
   "outputs": [
    {
     "data": {
      "text/html": [
       "<div>\n",
       "<style scoped>\n",
       "    .dataframe tbody tr th:only-of-type {\n",
       "        vertical-align: middle;\n",
       "    }\n",
       "\n",
       "    .dataframe tbody tr th {\n",
       "        vertical-align: top;\n",
       "    }\n",
       "\n",
       "    .dataframe thead th {\n",
       "        text-align: right;\n",
       "    }\n",
       "</style>\n",
       "<table border=\"1\" class=\"dataframe\">\n",
       "  <thead>\n",
       "    <tr style=\"text-align: right;\">\n",
       "      <th></th>\n",
       "      <th>Age</th>\n",
       "      <th>Workclass</th>\n",
       "      <th>Education-Num</th>\n",
       "      <th>Marital Status</th>\n",
       "      <th>Occupation</th>\n",
       "      <th>Relationship</th>\n",
       "      <th>Race</th>\n",
       "      <th>Sex</th>\n",
       "      <th>Capital Gain</th>\n",
       "      <th>Capital Loss</th>\n",
       "      <th>Hours per week</th>\n",
       "      <th>Country</th>\n",
       "      <th>Loan</th>\n",
       "    </tr>\n",
       "  </thead>\n",
       "  <tbody>\n",
       "    <tr>\n",
       "      <th>0</th>\n",
       "      <td>33.00</td>\n",
       "      <td>Local-gov</td>\n",
       "      <td>13.00</td>\n",
       "      <td>Never-married</td>\n",
       "      <td>Prof-specialty</td>\n",
       "      <td>Not-in-family</td>\n",
       "      <td>White</td>\n",
       "      <td>Female</td>\n",
       "      <td>0.00</td>\n",
       "      <td>0.00</td>\n",
       "      <td>50.00</td>\n",
       "      <td>United-States</td>\n",
       "      <td>True</td>\n",
       "    </tr>\n",
       "    <tr>\n",
       "      <th>1</th>\n",
       "      <td>36.00</td>\n",
       "      <td>Private</td>\n",
       "      <td>11.00</td>\n",
       "      <td>Married-civ-spouse</td>\n",
       "      <td>Exec-managerial</td>\n",
       "      <td>Husband</td>\n",
       "      <td>White</td>\n",
       "      <td>Male</td>\n",
       "      <td>0.00</td>\n",
       "      <td>1887.00</td>\n",
       "      <td>50.00</td>\n",
       "      <td>United-States</td>\n",
       "      <td>True</td>\n",
       "    </tr>\n",
       "    <tr>\n",
       "      <th>2</th>\n",
       "      <td>58.00</td>\n",
       "      <td>Self-emp-not-inc</td>\n",
       "      <td>5.00</td>\n",
       "      <td>Separated</td>\n",
       "      <td>Craft-repair</td>\n",
       "      <td>Not-in-family</td>\n",
       "      <td>White</td>\n",
       "      <td>Male</td>\n",
       "      <td>0.00</td>\n",
       "      <td>0.00</td>\n",
       "      <td>40.00</td>\n",
       "      <td>United-States</td>\n",
       "      <td>False</td>\n",
       "    </tr>\n",
       "    <tr>\n",
       "      <th>3</th>\n",
       "      <td>21.00</td>\n",
       "      <td>Private</td>\n",
       "      <td>11.00</td>\n",
       "      <td>Married-civ-spouse</td>\n",
       "      <td>Farming-fishing</td>\n",
       "      <td>Husband</td>\n",
       "      <td>White</td>\n",
       "      <td>Male</td>\n",
       "      <td>0.00</td>\n",
       "      <td>0.00</td>\n",
       "      <td>46.00</td>\n",
       "      <td>United-States</td>\n",
       "      <td>False</td>\n",
       "    </tr>\n",
       "    <tr>\n",
       "      <th>4</th>\n",
       "      <td>27.00</td>\n",
       "      <td>Private</td>\n",
       "      <td>10.00</td>\n",
       "      <td>Divorced</td>\n",
       "      <td>Other-service</td>\n",
       "      <td>Not-in-family</td>\n",
       "      <td>White</td>\n",
       "      <td>Male</td>\n",
       "      <td>0.00</td>\n",
       "      <td>0.00</td>\n",
       "      <td>40.00</td>\n",
       "      <td>United-States</td>\n",
       "      <td>False</td>\n",
       "    </tr>\n",
       "  </tbody>\n",
       "</table>\n",
       "</div>"
      ],
      "text/plain": [
       "    Age          Workclass  Education-Num       Marital Status  \\\n",
       "0 33.00   Local-gov        13.00            Never-married        \n",
       "1 36.00   Private          11.00            Married-civ-spouse   \n",
       "2 58.00   Self-emp-not-inc 5.00             Separated            \n",
       "3 21.00   Private          11.00            Married-civ-spouse   \n",
       "4 27.00   Private          10.00            Divorced             \n",
       "\n",
       "         Occupation    Relationship    Race      Sex  Capital Gain  \\\n",
       "0   Prof-specialty    Not-in-family   White   Female 0.00            \n",
       "1   Exec-managerial   Husband         White   Male   0.00            \n",
       "2   Craft-repair      Not-in-family   White   Male   0.00            \n",
       "3   Farming-fishing   Husband         White   Male   0.00            \n",
       "4   Other-service     Not-in-family   White   Male   0.00            \n",
       "\n",
       "   Capital Loss  Hours per week         Country   Loan  \n",
       "0 0.00          50.00             United-States  True   \n",
       "1 1887.00       50.00             United-States  True   \n",
       "2 0.00          40.00             United-States  False  \n",
       "3 0.00          46.00             United-States  False  \n",
       "4 0.00          40.00             United-States  False  "
      ]
     },
     "execution_count": 185,
     "metadata": {},
     "output_type": "execute_result"
    }
   ],
   "source": [
    "X.to_pandas_dataframe().head()"
   ]
  },
  {
   "cell_type": "code",
   "execution_count": 100,
   "metadata": {},
   "outputs": [],
   "source": [
    "from azureml.core.runconfig import RunConfiguration\n",
    "from azureml.core.conda_dependencies import CondaDependencies\n",
    "from azureml.core.runconfig import DEFAULT_CPU_IMAGE\n",
    "\n",
    "# create a new runconfig object\n",
    "run_config = RunConfiguration()\n",
    "\n",
    "run_config.target = compute_target\n",
    "\n",
    "# enable Docker \n",
    "run_config.environment.docker.enabled = True\n",
    "\n",
    "# set Docker base image to the default CPU-based image\n",
    "run_config.environment.docker.base_image = DEFAULT_CPU_IMAGE\n",
    "\n",
    "# use conda_dependencies.yml to create a conda environment in the Docker image for execution\n",
    "run_config.environment.python.user_managed_dependencies = False\n",
    "\n",
    "conda = CondaDependencies.create(\n",
    "#    pip_packages=['azureml-defaults', 'azureml-dataprep[fuse,pandas]', 'azureml-sdk'],\n",
    "    pip_packages=['azureml-defaults', 'azureml-sdk'],\n",
    "    pin_sdk_version=True\n",
    ")\n",
    "\n",
    "run_config.environment.python.conda_dependencies = conda\n"
   ]
  },
  {
   "cell_type": "code",
   "execution_count": 101,
   "metadata": {},
   "outputs": [],
   "source": [
    "settings = {\n",
    "    \"debug_log\": 'automl_census.txt'\n",
    "}\n",
    "\n",
    "\n",
    "AutoML_config = AutoMLConfig(task = 'classification',\n",
    "                            primary_metric = 'accuracy',\n",
    "                            run_configuration=run_config,\n",
    "                            iterations = 20,\n",
    "                            path = project_folder,\n",
    "                            #n_cross_validations=4,\n",
    "                            enable_voting_ensemble = False,\n",
    "                            enable_stack_ensemble = False,\n",
    "                            training_data = X,\n",
    "                            label_column_name = \"Loan\",\n",
    "                            enable_onnx_compatible_models=True,\n",
    "                            #blacklist_models = ['model list'],\n",
    "                            max_concurrent_iterations = 20,\n",
    "                            **settings\n",
    "                        )\n"
   ]
  },
  {
   "cell_type": "code",
   "execution_count": 102,
   "metadata": {},
   "outputs": [
    {
     "name": "stdout",
     "output_type": "stream",
     "text": [
      "Running on remote or ADB.\n"
     ]
    }
   ],
   "source": [
    "#Run the automl\n",
    "from azureml.core.experiment import Experiment\n",
    "experiment=Experiment(ws, experiment_name)\n",
    "run = experiment.submit(AutoML_config)\n",
    "#local_run = experiment.submit(AutoML_config, show_output=True, )"
   ]
  },
  {
   "cell_type": "code",
   "execution_count": 103,
   "metadata": {
    "scrolled": true
   },
   "outputs": [
    {
     "data": {
      "application/vnd.jupyter.widget-view+json": {
       "model_id": "b8a56cf1f63448bbb48c3ba41009f480",
       "version_major": 2,
       "version_minor": 0
      },
      "text/plain": [
       "_AutoMLWidget(widget_settings={'childWidgetDisplay': 'popup', 'send_telemetry': False, 'log_level': 'INFO', 's…"
      ]
     },
     "metadata": {},
     "output_type": "display_data"
    },
    {
     "data": {
      "application/aml.mini.widget.v1": "{\"status\": \"Completed\", \"workbench_run_details_uri\": \"https://ml.azure.com/experiments/autoMLCensusRemoteONNX04/runs/AutoML_38a858e6-9d41-4f16-95e8-75a0af28f245?wsid=/subscriptions/6a0ec27b-1203-46fe-ade0-8c3003d5e4bc/resourcegroups/MLServiceWrokspace/workspaces/MLServiceWrokspace\", \"run_id\": \"AutoML_38a858e6-9d41-4f16-95e8-75a0af28f245\", \"run_properties\": {\"run_id\": \"AutoML_38a858e6-9d41-4f16-95e8-75a0af28f245\", \"created_utc\": \"2020-11-17T17:11:47.868991Z\", \"properties\": {\"num_iterations\": \"20\", \"training_type\": \"TrainFull\", \"acquisition_function\": \"EI\", \"primary_metric\": \"accuracy\", \"train_split\": \"0\", \"acquisition_parameter\": \"0\", \"num_cross_validation\": null, \"target\": \"automlcluster\", \"AMLSettingsJsonString\": \"{\\\"path\\\":null,\\\"name\\\":\\\"autoMLCensusRemoteONNX04\\\",\\\"subscription_id\\\":\\\"6a0ec27b-1203-46fe-ade0-8c3003d5e4bc\\\",\\\"resource_group\\\":\\\"MLServiceWrokspace\\\",\\\"workspace_name\\\":\\\"MLServiceWrokspace\\\",\\\"region\\\":\\\"northeurope\\\",\\\"compute_target\\\":\\\"automlcluster\\\",\\\"spark_service\\\":null,\\\"azure_service\\\":\\\"remote\\\",\\\"_local_managed_run_id\\\":null,\\\"many_models\\\":false,\\\"iterations\\\":20,\\\"primary_metric\\\":\\\"accuracy\\\",\\\"task_type\\\":\\\"classification\\\",\\\"data_script\\\":null,\\\"validation_size\\\":0.0,\\\"n_cross_validations\\\":null,\\\"y_min\\\":null,\\\"y_max\\\":null,\\\"num_classes\\\":null,\\\"featurization\\\":\\\"auto\\\",\\\"_ignore_package_version_incompatibilities\\\":false,\\\"is_timeseries\\\":false,\\\"max_cores_per_iteration\\\":1,\\\"max_concurrent_iterations\\\":20,\\\"iteration_timeout_minutes\\\":null,\\\"mem_in_mb\\\":null,\\\"enforce_time_on_windows\\\":false,\\\"experiment_timeout_minutes\\\":8640,\\\"experiment_exit_score\\\":null,\\\"whitelist_models\\\":null,\\\"blacklist_algos\\\":[\\\"TensorFlowLinearClassifier\\\",\\\"TensorFlowDNN\\\"],\\\"supported_models\\\":[\\\"TensorFlowLinearClassifier\\\",\\\"GradientBoosting\\\",\\\"KNN\\\",\\\"BernoulliNaiveBayes\\\",\\\"SVM\\\",\\\"XGBoostClassifier\\\",\\\"LogisticRegression\\\",\\\"RandomForest\\\",\\\"TensorFlowDNN\\\",\\\"LightGBM\\\",\\\"LinearSVM\\\",\\\"ExtremeRandomTrees\\\",\\\"DecisionTree\\\",\\\"AveragedPerceptronClassifier\\\",\\\"MultinomialNaiveBayes\\\",\\\"SGD\\\"],\\\"auto_blacklist\\\":true,\\\"blacklist_samples_reached\\\":false,\\\"exclude_nan_labels\\\":true,\\\"verbosity\\\":20,\\\"_debug_log\\\":\\\"azureml_automl.log\\\",\\\"show_warnings\\\":false,\\\"model_explainability\\\":true,\\\"service_url\\\":null,\\\"sdk_url\\\":null,\\\"sdk_packages\\\":null,\\\"enable_onnx_compatible_models\\\":true,\\\"enable_split_onnx_featurizer_estimator_models\\\":false,\\\"vm_type\\\":\\\"STANDARD_D2_V2\\\",\\\"telemetry_verbosity\\\":20,\\\"send_telemetry\\\":true,\\\"enable_dnn\\\":false,\\\"force_text_dnn\\\":false,\\\"enable_feature_sweeping\\\":false,\\\"enable_early_stopping\\\":false,\\\"early_stopping_n_iters\\\":10,\\\"metrics\\\":null,\\\"enable_ensembling\\\":false,\\\"enable_stack_ensembling\\\":false,\\\"ensemble_iterations\\\":15,\\\"enable_tf\\\":false,\\\"enable_subsampling\\\":false,\\\"subsample_seed\\\":null,\\\"enable_nimbusml\\\":false,\\\"enable_streaming\\\":false,\\\"force_streaming\\\":false,\\\"track_child_runs\\\":true,\\\"label_column_name\\\":\\\"Loan\\\",\\\"weight_column_name\\\":null,\\\"cv_split_column_names\\\":null,\\\"enable_local_managed\\\":false,\\\"cost_mode\\\":1,\\\"lag_length\\\":0,\\\"metric_operation\\\":\\\"maximize\\\",\\\"preprocess\\\":true,\\\"scenario\\\":\\\"SDK-1.13.0\\\"}\", \"DataPrepJsonString\": \"{\\\\\\\"training_data\\\\\\\": \\\\\\\"{\\\\\\\\\\\\\\\"blocks\\\\\\\\\\\\\\\": [{\\\\\\\\\\\\\\\"id\\\\\\\\\\\\\\\": \\\\\\\\\\\\\\\"aa690ea2-6ac2-486b-85e8-2102167e116f\\\\\\\\\\\\\\\", \\\\\\\\\\\\\\\"type\\\\\\\\\\\\\\\": \\\\\\\\\\\\\\\"Microsoft.DPrep.GetDatastoreFilesBlock\\\\\\\\\\\\\\\", \\\\\\\\\\\\\\\"arguments\\\\\\\\\\\\\\\": {\\\\\\\\\\\\\\\"datastores\\\\\\\\\\\\\\\": [{\\\\\\\\\\\\\\\"datastoreName\\\\\\\\\\\\\\\": \\\\\\\\\\\\\\\"workspaceblobstore\\\\\\\\\\\\\\\", \\\\\\\\\\\\\\\"path\\\\\\\\\\\\\\\": \\\\\\\\\\\\\\\"storesdataCensus/X_trainCensus.csv\\\\\\\\\\\\\\\", \\\\\\\\\\\\\\\"resourceGroup\\\\\\\\\\\\\\\": \\\\\\\\\\\\\\\"MLServiceWrokspace\\\\\\\\\\\\\\\", \\\\\\\\\\\\\\\"subscription\\\\\\\\\\\\\\\": \\\\\\\\\\\\\\\"6a0ec27b-1203-46fe-ade0-8c3003d5e4bc\\\\\\\\\\\\\\\", \\\\\\\\\\\\\\\"workspaceName\\\\\\\\\\\\\\\": \\\\\\\\\\\\\\\"MLServiceWrokspace\\\\\\\\\\\\\\\"}]}, \\\\\\\\\\\\\\\"localData\\\\\\\\\\\\\\\": {}, \\\\\\\\\\\\\\\"isEnabled\\\\\\\\\\\\\\\": true, \\\\\\\\\\\\\\\"name\\\\\\\\\\\\\\\": null, \\\\\\\\\\\\\\\"annotation\\\\\\\\\\\\\\\": null}, {\\\\\\\\\\\\\\\"id\\\\\\\\\\\\\\\": \\\\\\\\\\\\\\\"2ac5fbdf-9028-4e6c-8f3a-6481ff677572\\\\\\\\\\\\\\\", \\\\\\\\\\\\\\\"type\\\\\\\\\\\\\\\": \\\\\\\\\\\\\\\"Microsoft.DPrep.ParseDelimitedBlock\\\\\\\\\\\\\\\", \\\\\\\\\\\\\\\"arguments\\\\\\\\\\\\\\\": {\\\\\\\\\\\\\\\"columnHeadersMode\\\\\\\\\\\\\\\": 3, \\\\\\\\\\\\\\\"fileEncoding\\\\\\\\\\\\\\\": 0, \\\\\\\\\\\\\\\"handleQuotedLineBreaks\\\\\\\\\\\\\\\": false, \\\\\\\\\\\\\\\"preview\\\\\\\\\\\\\\\": false, \\\\\\\\\\\\\\\"separator\\\\\\\\\\\\\\\": \\\\\\\\\\\\\\\",\\\\\\\\\\\\\\\", \\\\\\\\\\\\\\\"skipRows\\\\\\\\\\\\\\\": 0, \\\\\\\\\\\\\\\"skipRowsMode\\\\\\\\\\\\\\\": 0}, \\\\\\\\\\\\\\\"localData\\\\\\\\\\\\\\\": {}, \\\\\\\\\\\\\\\"isEnabled\\\\\\\\\\\\\\\": true, \\\\\\\\\\\\\\\"name\\\\\\\\\\\\\\\": null, \\\\\\\\\\\\\\\"annotation\\\\\\\\\\\\\\\": null}, {\\\\\\\\\\\\\\\"id\\\\\\\\\\\\\\\": \\\\\\\\\\\\\\\"1d447349-1c47-4a5f-b334-1e861bbecb50\\\\\\\\\\\\\\\", \\\\\\\\\\\\\\\"type\\\\\\\\\\\\\\\": \\\\\\\\\\\\\\\"Microsoft.DPrep.DropColumnsBlock\\\\\\\\\\\\\\\", \\\\\\\\\\\\\\\"arguments\\\\\\\\\\\\\\\": {\\\\\\\\\\\\\\\"columns\\\\\\\\\\\\\\\": {\\\\\\\\\\\\\\\"type\\\\\\\\\\\\\\\": 0, \\\\\\\\\\\\\\\"details\\\\\\\\\\\\\\\": {\\\\\\\\\\\\\\\"selectedColumns\\\\\\\\\\\\\\\": [\\\\\\\\\\\\\\\"Path\\\\\\\\\\\\\\\"]}}}, \\\\\\\\\\\\\\\"localData\\\\\\\\\\\\\\\": {}, \\\\\\\\\\\\\\\"isEnabled\\\\\\\\\\\\\\\": true, \\\\\\\\\\\\\\\"name\\\\\\\\\\\\\\\": null, \\\\\\\\\\\\\\\"annotation\\\\\\\\\\\\\\\": null}, {\\\\\\\\\\\\\\\"id\\\\\\\\\\\\\\\": \\\\\\\\\\\\\\\"e6d547e9-937e-4414-b96a-4055e10a1e1e\\\\\\\\\\\\\\\", \\\\\\\\\\\\\\\"type\\\\\\\\\\\\\\\": \\\\\\\\\\\\\\\"Microsoft.DPrep.SetColumnTypesBlock\\\\\\\\\\\\\\\", \\\\\\\\\\\\\\\"arguments\\\\\\\\\\\\\\\": {\\\\\\\\\\\\\\\"columnConversion\\\\\\\\\\\\\\\": [{\\\\\\\\\\\\\\\"column\\\\\\\\\\\\\\\": {\\\\\\\\\\\\\\\"type\\\\\\\\\\\\\\\": 2, \\\\\\\\\\\\\\\"details\\\\\\\\\\\\\\\": {\\\\\\\\\\\\\\\"selectedColumn\\\\\\\\\\\\\\\": \\\\\\\\\\\\\\\"Age\\\\\\\\\\\\\\\"}}, \\\\\\\\\\\\\\\"typeProperty\\\\\\\\\\\\\\\": 3}, {\\\\\\\\\\\\\\\"column\\\\\\\\\\\\\\\": {\\\\\\\\\\\\\\\"type\\\\\\\\\\\\\\\": 2, \\\\\\\\\\\\\\\"details\\\\\\\\\\\\\\\": {\\\\\\\\\\\\\\\"selectedColumn\\\\\\\\\\\\\\\": \\\\\\\\\\\\\\\"Workclass\\\\\\\\\\\\\\\"}}, \\\\\\\\\\\\\\\"typeProperty\\\\\\\\\\\\\\\": 0}, {\\\\\\\\\\\\\\\"column\\\\\\\\\\\\\\\": {\\\\\\\\\\\\\\\"type\\\\\\\\\\\\\\\": 2, \\\\\\\\\\\\\\\"details\\\\\\\\\\\\\\\": {\\\\\\\\\\\\\\\"selectedColumn\\\\\\\\\\\\\\\": \\\\\\\\\\\\\\\"Education-Num\\\\\\\\\\\\\\\"}}, \\\\\\\\\\\\\\\"typeProperty\\\\\\\\\\\\\\\": 3}, {\\\\\\\\\\\\\\\"column\\\\\\\\\\\\\\\": {\\\\\\\\\\\\\\\"type\\\\\\\\\\\\\\\": 2, \\\\\\\\\\\\\\\"details\\\\\\\\\\\\\\\": {\\\\\\\\\\\\\\\"selectedColumn\\\\\\\\\\\\\\\": \\\\\\\\\\\\\\\"Marital Status\\\\\\\\\\\\\\\"}}, \\\\\\\\\\\\\\\"typeProperty\\\\\\\\\\\\\\\": 0}, {\\\\\\\\\\\\\\\"column\\\\\\\\\\\\\\\": {\\\\\\\\\\\\\\\"type\\\\\\\\\\\\\\\": 2, \\\\\\\\\\\\\\\"details\\\\\\\\\\\\\\\": {\\\\\\\\\\\\\\\"selectedColumn\\\\\\\\\\\\\\\": \\\\\\\\\\\\\\\"Occupation\\\\\\\\\\\\\\\"}}, \\\\\\\\\\\\\\\"typeProperty\\\\\\\\\\\\\\\": 0}, {\\\\\\\\\\\\\\\"column\\\\\\\\\\\\\\\": {\\\\\\\\\\\\\\\"type\\\\\\\\\\\\\\\": 2, \\\\\\\\\\\\\\\"details\\\\\\\\\\\\\\\": {\\\\\\\\\\\\\\\"selectedColumn\\\\\\\\\\\\\\\": \\\\\\\\\\\\\\\"Relationship\\\\\\\\\\\\\\\"}}, \\\\\\\\\\\\\\\"typeProperty\\\\\\\\\\\\\\\": 0}, {\\\\\\\\\\\\\\\"column\\\\\\\\\\\\\\\": {\\\\\\\\\\\\\\\"type\\\\\\\\\\\\\\\": 2, \\\\\\\\\\\\\\\"details\\\\\\\\\\\\\\\": {\\\\\\\\\\\\\\\"selectedColumn\\\\\\\\\\\\\\\": \\\\\\\\\\\\\\\"Race\\\\\\\\\\\\\\\"}}, \\\\\\\\\\\\\\\"typeProperty\\\\\\\\\\\\\\\": 0}, {\\\\\\\\\\\\\\\"column\\\\\\\\\\\\\\\": {\\\\\\\\\\\\\\\"type\\\\\\\\\\\\\\\": 2, \\\\\\\\\\\\\\\"details\\\\\\\\\\\\\\\": {\\\\\\\\\\\\\\\"selectedColumn\\\\\\\\\\\\\\\": \\\\\\\\\\\\\\\"Sex\\\\\\\\\\\\\\\"}}, \\\\\\\\\\\\\\\"typeProperty\\\\\\\\\\\\\\\": 0}, {\\\\\\\\\\\\\\\"column\\\\\\\\\\\\\\\": {\\\\\\\\\\\\\\\"type\\\\\\\\\\\\\\\": 2, \\\\\\\\\\\\\\\"details\\\\\\\\\\\\\\\": {\\\\\\\\\\\\\\\"selectedColumn\\\\\\\\\\\\\\\": \\\\\\\\\\\\\\\"Capital Gain\\\\\\\\\\\\\\\"}}, \\\\\\\\\\\\\\\"typeProperty\\\\\\\\\\\\\\\": 3}, {\\\\\\\\\\\\\\\"column\\\\\\\\\\\\\\\": {\\\\\\\\\\\\\\\"type\\\\\\\\\\\\\\\": 2, \\\\\\\\\\\\\\\"details\\\\\\\\\\\\\\\": {\\\\\\\\\\\\\\\"selectedColumn\\\\\\\\\\\\\\\": \\\\\\\\\\\\\\\"Capital Loss\\\\\\\\\\\\\\\"}}, \\\\\\\\\\\\\\\"typeProperty\\\\\\\\\\\\\\\": 3}, {\\\\\\\\\\\\\\\"column\\\\\\\\\\\\\\\": {\\\\\\\\\\\\\\\"type\\\\\\\\\\\\\\\": 2, \\\\\\\\\\\\\\\"details\\\\\\\\\\\\\\\": {\\\\\\\\\\\\\\\"selectedColumn\\\\\\\\\\\\\\\": \\\\\\\\\\\\\\\"Hours per week\\\\\\\\\\\\\\\"}}, \\\\\\\\\\\\\\\"typeProperty\\\\\\\\\\\\\\\": 3}, {\\\\\\\\\\\\\\\"column\\\\\\\\\\\\\\\": {\\\\\\\\\\\\\\\"type\\\\\\\\\\\\\\\": 2, \\\\\\\\\\\\\\\"details\\\\\\\\\\\\\\\": {\\\\\\\\\\\\\\\"selectedColumn\\\\\\\\\\\\\\\": \\\\\\\\\\\\\\\"Country\\\\\\\\\\\\\\\"}}, \\\\\\\\\\\\\\\"typeProperty\\\\\\\\\\\\\\\": 0}, {\\\\\\\\\\\\\\\"column\\\\\\\\\\\\\\\": {\\\\\\\\\\\\\\\"type\\\\\\\\\\\\\\\": 2, \\\\\\\\\\\\\\\"details\\\\\\\\\\\\\\\": {\\\\\\\\\\\\\\\"selectedColumn\\\\\\\\\\\\\\\": \\\\\\\\\\\\\\\"Loan\\\\\\\\\\\\\\\"}}, \\\\\\\\\\\\\\\"typeProperty\\\\\\\\\\\\\\\": 1}]}, \\\\\\\\\\\\\\\"localData\\\\\\\\\\\\\\\": {}, \\\\\\\\\\\\\\\"isEnabled\\\\\\\\\\\\\\\": true, \\\\\\\\\\\\\\\"name\\\\\\\\\\\\\\\": null, \\\\\\\\\\\\\\\"annotation\\\\\\\\\\\\\\\": null}], \\\\\\\\\\\\\\\"inspectors\\\\\\\\\\\\\\\": [], \\\\\\\\\\\\\\\"meta\\\\\\\\\\\\\\\": {\\\\\\\\\\\\\\\"savedDatasetId\\\\\\\\\\\\\\\": \\\\\\\\\\\\\\\"3f71f00f-1575-48e6-a666-1d107213557b\\\\\\\\\\\\\\\", \\\\\\\\\\\\\\\"datasetType\\\\\\\\\\\\\\\": \\\\\\\\\\\\\\\"tabular\\\\\\\\\\\\\\\", \\\\\\\\\\\\\\\"subscriptionId\\\\\\\\\\\\\\\": \\\\\\\\\\\\\\\"6a0ec27b-1203-46fe-ade0-8c3003d5e4bc\\\\\\\\\\\\\\\", \\\\\\\\\\\\\\\"workspaceId\\\\\\\\\\\\\\\": \\\\\\\\\\\\\\\"b77f06f9-80dd-4231-9153-6a77c47edd72\\\\\\\\\\\\\\\", \\\\\\\\\\\\\\\"workspaceLocation\\\\\\\\\\\\\\\": \\\\\\\\\\\\\\\"northeurope\\\\\\\\\\\\\\\"}}\\\\\\\", \\\\\\\"activities\\\\\\\": 0}\", \"EnableSubsampling\": \"False\", \"runTemplate\": \"AutoML\", \"azureml.runsource\": \"automl\", \"display_task_type\": \"classification\", \"dependencies_versions\": \"{\\\"azureml-widgets\\\": \\\"1.14.0\\\", \\\"azureml-train\\\": \\\"1.14.0\\\", \\\"azureml-train-restclients-hyperdrive\\\": \\\"1.14.0\\\", \\\"azureml-train-core\\\": \\\"1.14.0\\\", \\\"azureml-train-automl\\\": \\\"1.14.0\\\", \\\"azureml-train-automl-runtime\\\": \\\"1.14.0\\\", \\\"azureml-train-automl-client\\\": \\\"1.14.0.post1\\\", \\\"azureml-tensorboard\\\": \\\"1.14.0\\\", \\\"azureml-telemetry\\\": \\\"1.14.0\\\", \\\"azureml-sdk\\\": \\\"1.14.0\\\", \\\"azureml-samples\\\": \\\"0+unknown\\\", \\\"azureml-pipeline\\\": \\\"1.14.0\\\", \\\"azureml-pipeline-steps\\\": \\\"1.14.0\\\", \\\"azureml-pipeline-core\\\": \\\"1.14.0\\\", \\\"azureml-opendatasets\\\": \\\"1.14.0\\\", \\\"azureml-model-management-sdk\\\": \\\"1.0.1b6.post1\\\", \\\"azureml-mlflow\\\": \\\"1.14.0\\\", \\\"azureml-interpret\\\": \\\"1.14.0\\\", \\\"azureml-explain-model\\\": \\\"1.14.0\\\", \\\"azureml-defaults\\\": \\\"1.14.0\\\", \\\"azureml-dataset-runtime\\\": \\\"1.14.0\\\", \\\"azureml-dataprep\\\": \\\"2.1.5\\\", \\\"azureml-dataprep-native\\\": \\\"21.0.1\\\", \\\"azureml-datadrift\\\": \\\"1.14.0\\\", \\\"azureml-core\\\": \\\"1.14.0.post1\\\", \\\"azureml-contrib-services\\\": \\\"1.14.0\\\", \\\"azureml-contrib-server\\\": \\\"1.14.0\\\", \\\"azureml-contrib-reinforcementlearning\\\": \\\"1.14.0\\\", \\\"azureml-contrib-pipeline-steps\\\": \\\"1.14.0\\\", \\\"azureml-contrib-notebook\\\": \\\"1.14.0.post1\\\", \\\"azureml-contrib-interpret\\\": \\\"1.14.0\\\", \\\"azureml-contrib-gbdt\\\": \\\"1.14.0\\\", \\\"azureml-contrib-fairness\\\": \\\"1.14.0\\\", \\\"azureml-contrib-dataset\\\": \\\"1.14.0\\\", \\\"azureml-cli-common\\\": \\\"1.14.0\\\", \\\"azureml-automl-runtime\\\": \\\"1.14.0.post1\\\", \\\"azureml-automl-core\\\": \\\"1.14.0\\\", \\\"azureml-accel-models\\\": \\\"1.14.0\\\"}\", \"_aml_system_scenario_identification\": \"Remote.Parent\", \"ClientType\": \"SDK\", \"environment_cpu_name\": \"AzureML-AutoML\", \"environment_cpu_version\": \"44\", \"environment_gpu_name\": \"AzureML-AutoML-GPU\", \"environment_gpu_version\": \"32\", \"root_attribution\": \"automl\", \"attribution\": \"AutoML\", \"Orchestrator\": \"AutoML\", \"CancelUri\": \"https://northeurope.experiments.azureml.net/jasmine/v1.0/subscriptions/6a0ec27b-1203-46fe-ade0-8c3003d5e4bc/resourceGroups/MLServiceWrokspace/providers/Microsoft.MachineLearningServices/workspaces/MLServiceWrokspace/experiment/autoMLCensusRemoteONNX04/cancel/AutoML_38a858e6-9d41-4f16-95e8-75a0af28f245\", \"azureml.git.repository_uri\": \"git@github.com:rolester/AzureMLPythonSDKDemos.git\", \"mlflow.source.git.repoURL\": \"git@github.com:rolester/AzureMLPythonSDKDemos.git\", \"azureml.git.branch\": \"master\", \"mlflow.source.git.branch\": \"master\", \"azureml.git.commit\": \"7083dc7a7486c40194dcfbabebf706cc13b9fc09\", \"mlflow.source.git.commit\": \"7083dc7a7486c40194dcfbabebf706cc13b9fc09\", \"azureml.git.dirty\": \"False\", \"ClientSdkVersion\": \"1.17.0\", \"snapshotId\": \"00000000-0000-0000-0000-000000000000\", \"SetupRunId\": \"AutoML_38a858e6-9d41-4f16-95e8-75a0af28f245_setup\", \"SetupRunContainerId\": \"dcid.AutoML_38a858e6-9d41-4f16-95e8-75a0af28f245_setup\", \"FeaturizationRunJsonPath\": \"featurizer_container.json\", \"FeaturizationRunId\": \"AutoML_38a858e6-9d41-4f16-95e8-75a0af28f245_featurize\", \"ProblemInfoJsonString\": \"{\\\"dataset_num_categorical\\\": 0, \\\"is_sparse\\\": true, \\\"subsampling\\\": false, \\\"dataset_classes\\\": 2, \\\"dataset_features\\\": 90, \\\"dataset_samples\\\": 23443, \\\"single_frequency_class_detected\\\": false}\", \"ModelExplainRunId\": \"AutoML_38a858e6-9d41-4f16-95e8-75a0af28f245_ModelExplain\"}, \"tags\": {\"model_explain_run\": \"best_run\", \"_aml_system_azureml.automlComponent\": \"AutoML\", \"pipeline_id\": \"<121c9f60849e027dd2ce3aec439c7d7cc3b62e91>;<88020d40ee6411fc9ee70b4e0a06e3d99c9d81fb>;<c7af0367625be6ac5c2fecbfc72ed444cb7a2111>;<b19eeb61727e9c4fbb5aa45fb6e9fe3fab5b1f04>;<8de8c085d2a4b23d3f4cc392a2f2660d23d38c14>;<bc9206626b500d75953081471497ef8df99a5b5f>;<a2983da01504b121cc4056d933a1191b51be87bc>;<bc0989d1356b218fe39847ffebc1d90a7288aa90>;<d8d1a28b70a271fc16185d8e06b7faeee4bdd817>;<9845a0ba1345a7474c237d10111bcf5bccbb1f0e>;<a91f8b94ae9bf0dfc66e93d29d1ef41b7e2687f2>;<7e6d29ac12f87df549568aa4d87b909e180e45bc>;<4d4be808b8b6dd0f67e8354c79eddd3d712440a5>;<a46f07e9cf1dae9ec3b2fdcf78cb704449fd20f0>;<01bc9a5355dd06c39d90cdc54976e897495a3534>;<ce2643edf3d450b10c86c7d034a9bc952dc282d3>;<cf1dc9b7ea4a50d759bce352343ec6737501695a>;<22ff711585f7d612cb5545b13e4f726a7baea08b>;<5dfac790c5c209f98a1da2dc1c7fb76f0397324f>;<51ae05309834b29f71340af1008fc94fbd8213f4>;\", \"score\": \"<0.8049904030710173>;<0.8330134357005758>;<0.8560460652591171>;<0.7792706333973128>;<0.8134357005758157>;<0.8395393474088292>;<0.7834932821497121>;<0.6886756238003838>;<0.8145873320537428>;<0.6967370441458733>;<0.8395393474088292>;<0.7919385796545105>;<0.8172744721689059>;<0.8345489443378119>;<0.707869481765835>;<0.799232245681382>;<0.836468330134357>;<0.781957773512476>;<0.8595009596928983>;<0.8072936660268714>;\", \"predicted_cost\": \"<0.5>;<0.5>;<0>;<0.5>;<0.5>;<0.5>;<0.5>;<0.5>;<0.5>;<0.5>;<0.5>;<0.5>;<0.5>;<0.5>;<0.5>;<0.5>;<0.5>;<0.5>;<0>;<0.5>;\", \"fit_time\": \"<0.212732>;<0.040904>;<1.076422>;<0.117467>;<0.27604700000000004>;<0.12071799999999999>;<0.059768999999999996>;<0.26155>;<0.494207>;<0.435152>;<0.237529>;<0.17658100000000002>;<0.5362579999999999>;<0.039403>;<0.152505>;<0.102027>;<0.135989>;<0.160386>;<0.463409>;<0.313699>;\", \"training_percent\": \"<100>;<100>;<100>;<100>;<100>;<100>;<100>;<100>;<100>;<100>;<100>;<100>;<100>;<100>;<100>;<100>;<100>;<100>;<100>;<100>;\", \"iteration\": \"<13>;<11>;<1>;<3>;<6>;<19>;<4>;<18>;<8>;<9>;<5>;<15>;<7>;<10>;<14>;<12>;<2>;<16>;<0>;<17>;\", \"run_preprocessor\": \"<StandardScalerWrapper>;<MaxAbsScaler>;<MaxAbsScaler>;<MaxAbsScaler>;<MaxAbsScaler>;<MaxAbsScaler>;<MaxAbsScaler>;<SparseNormalizer>;<MaxAbsScaler>;<MaxAbsScaler>;<MaxAbsScaler>;<MaxAbsScaler>;<MaxAbsScaler>;<MaxAbsScaler>;<MaxAbsScaler>;<MaxAbsScaler>;<MaxAbsScaler>;<MaxAbsScaler>;<MaxAbsScaler>;<MaxAbsScaler>;\", \"run_algorithm\": \"<ExtremeRandomTrees>;<SGD>;<XGBoostClassifier>;<RandomForest>;<ExtremeRandomTrees>;<SGD>;<SGD>;<ExtremeRandomTrees>;<ExtremeRandomTrees>;<ExtremeRandomTrees>;<SGD>;<SGD>;<ExtremeRandomTrees>;<SGD>;<RandomForest>;<RandomForest>;<RandomForest>;<RandomForest>;<LightGBM>;<ExtremeRandomTrees>;\", \"automl_best_child_run_id\": \"AutoML_38a858e6-9d41-4f16-95e8-75a0af28f245_0\", \"model_explain_best_run_child_id\": \"AutoML_38a858e6-9d41-4f16-95e8-75a0af28f245_0\"}, \"end_time_utc\": \"2020-11-17T17:27:27.475658Z\", \"status\": \"Completed\", \"log_files\": {}, \"log_groups\": [], \"run_duration\": \"0:15:39\"}, \"child_runs\": [{\"run_id\": \"AutoML_38a858e6-9d41-4f16-95e8-75a0af28f245_2\", \"run_number\": 5, \"metric\": null, \"status\": \"Completed\", \"run_type\": \"azureml.scriptrun\", \"training_percent\": \"100\", \"start_time\": \"2020-11-17T17:24:07.49215Z\", \"end_time\": \"2020-11-17T17:27:14.303794Z\", \"created_time\": \"2020-11-17T17:21:16.264267Z\", \"created_time_dt\": \"2020-11-17T17:21:16.264267Z\", \"duration\": \"0:05:58\", \"iteration\": \"2\", \"goal\": \"accuracy_max\", \"run_name\": \"MaxAbsScaler, RandomForest\", \"run_properties\": \"copy=True\", \"primary_metric\": 0.83646833, \"best_metric\": 0.85950096}, {\"run_id\": \"AutoML_38a858e6-9d41-4f16-95e8-75a0af28f245_0\", \"run_number\": 6, \"metric\": null, \"status\": \"Completed\", \"run_type\": \"azureml.scriptrun\", \"training_percent\": \"100\", \"start_time\": \"2020-11-17T17:22:23.447703Z\", \"end_time\": \"2020-11-17T17:22:56.849381Z\", \"created_time\": \"2020-11-17T17:21:16.285969Z\", \"created_time_dt\": \"2020-11-17T17:21:16.285969Z\", \"duration\": \"0:01:40\", \"iteration\": \"0\", \"goal\": \"accuracy_max\", \"run_name\": \"MaxAbsScaler, LightGBM\", \"run_properties\": \"copy=True\", \"primary_metric\": 0.85950096, \"best_metric\": 0.85950096}, {\"run_id\": \"AutoML_38a858e6-9d41-4f16-95e8-75a0af28f245_3\", \"run_number\": 7, \"metric\": null, \"status\": \"Completed\", \"run_type\": \"azureml.scriptrun\", \"training_percent\": \"100\", \"start_time\": \"2020-11-17T17:21:27.876078Z\", \"end_time\": \"2020-11-17T17:22:05.291366Z\", \"created_time\": \"2020-11-17T17:21:16.330614Z\", \"created_time_dt\": \"2020-11-17T17:21:16.330614Z\", \"duration\": \"0:00:48\", \"iteration\": \"3\", \"goal\": \"accuracy_max\", \"run_name\": \"MaxAbsScaler, RandomForest\", \"run_properties\": \"copy=True\", \"primary_metric\": 0.77927063, \"best_metric\": 0.85950096}, {\"run_id\": \"AutoML_38a858e6-9d41-4f16-95e8-75a0af28f245_4\", \"run_number\": 8, \"metric\": null, \"status\": \"Completed\", \"run_type\": \"azureml.scriptrun\", \"training_percent\": \"100\", \"start_time\": \"2020-11-17T17:24:06.134727Z\", \"end_time\": \"2020-11-17T17:27:13.260163Z\", \"created_time\": \"2020-11-17T17:21:16.338981Z\", \"created_time_dt\": \"2020-11-17T17:21:16.338981Z\", \"duration\": \"0:05:56\", \"iteration\": \"4\", \"goal\": \"accuracy_max\", \"run_name\": \"MaxAbsScaler, SGD\", \"run_properties\": \"copy=True\", \"primary_metric\": 0.78349328, \"best_metric\": 0.85950096}, {\"run_id\": \"AutoML_38a858e6-9d41-4f16-95e8-75a0af28f245_9\", \"run_number\": 9, \"metric\": null, \"status\": \"Completed\", \"run_type\": \"azureml.scriptrun\", \"training_percent\": \"100\", \"start_time\": \"2020-11-17T17:24:08.890852Z\", \"end_time\": \"2020-11-17T17:27:14.585221Z\", \"created_time\": \"2020-11-17T17:21:16.394754Z\", \"created_time_dt\": \"2020-11-17T17:21:16.394754Z\", \"duration\": \"0:05:58\", \"iteration\": \"9\", \"goal\": \"accuracy_max\", \"run_name\": \"MaxAbsScaler, ExtremeRandomTrees\", \"run_properties\": \"copy=True\", \"primary_metric\": 0.69673704, \"best_metric\": 0.85950096}, {\"run_id\": \"AutoML_38a858e6-9d41-4f16-95e8-75a0af28f245_11\", \"run_number\": 10, \"metric\": null, \"status\": \"Completed\", \"run_type\": \"azureml.scriptrun\", \"training_percent\": \"100\", \"start_time\": \"2020-11-17T17:24:05.515555Z\", \"end_time\": \"2020-11-17T17:27:15.942224Z\", \"created_time\": \"2020-11-17T17:21:16.412088Z\", \"created_time_dt\": \"2020-11-17T17:21:16.412088Z\", \"duration\": \"0:05:59\", \"iteration\": \"11\", \"goal\": \"accuracy_max\", \"run_name\": \"MaxAbsScaler, SGD\", \"run_properties\": \"copy=True\", \"primary_metric\": 0.83301344, \"best_metric\": 0.85950096}, {\"run_id\": \"AutoML_38a858e6-9d41-4f16-95e8-75a0af28f245_12\", \"run_number\": 11, \"metric\": null, \"status\": \"Completed\", \"run_type\": \"azureml.scriptrun\", \"training_percent\": \"100\", \"start_time\": \"2020-11-17T17:24:04.494324Z\", \"end_time\": \"2020-11-17T17:27:10.595585Z\", \"created_time\": \"2020-11-17T17:21:16.421636Z\", \"created_time_dt\": \"2020-11-17T17:21:16.421636Z\", \"duration\": \"0:05:54\", \"iteration\": \"12\", \"goal\": \"accuracy_max\", \"run_name\": \"MaxAbsScaler, RandomForest\", \"run_properties\": \"copy=True\", \"primary_metric\": 0.79923225, \"best_metric\": 0.85950096}, {\"run_id\": \"AutoML_38a858e6-9d41-4f16-95e8-75a0af28f245_1\", \"run_number\": 12, \"metric\": null, \"status\": \"Completed\", \"run_type\": \"azureml.scriptrun\", \"training_percent\": \"100\", \"start_time\": \"2020-11-17T17:24:08.418281Z\", \"end_time\": \"2020-11-17T17:27:07.121865Z\", \"created_time\": \"2020-11-17T17:21:16.471041Z\", \"created_time_dt\": \"2020-11-17T17:21:16.471041Z\", \"duration\": \"0:05:50\", \"iteration\": \"1\", \"goal\": \"accuracy_max\", \"run_name\": \"MaxAbsScaler, XGBoostClassifier\", \"run_properties\": \"copy=True\", \"primary_metric\": 0.85604607, \"best_metric\": 0.85950096}, {\"run_id\": \"AutoML_38a858e6-9d41-4f16-95e8-75a0af28f245_10\", \"run_number\": 13, \"metric\": null, \"status\": \"Completed\", \"run_type\": \"azureml.scriptrun\", \"training_percent\": \"100\", \"start_time\": \"2020-11-17T17:24:04.533542Z\", \"end_time\": \"2020-11-17T17:26:58.704578Z\", \"created_time\": \"2020-11-17T17:21:16.534504Z\", \"created_time_dt\": \"2020-11-17T17:21:16.534504Z\", \"duration\": \"0:05:42\", \"iteration\": \"10\", \"goal\": \"accuracy_max\", \"run_name\": \"MaxAbsScaler, SGD\", \"run_properties\": \"copy=True\", \"primary_metric\": 0.83454894, \"best_metric\": 0.85950096}, {\"run_id\": \"AutoML_38a858e6-9d41-4f16-95e8-75a0af28f245_8\", \"run_number\": 14, \"metric\": null, \"status\": \"Completed\", \"run_type\": \"azureml.scriptrun\", \"training_percent\": \"100\", \"start_time\": \"2020-11-17T17:24:08.503131Z\", \"end_time\": \"2020-11-17T17:27:04.292984Z\", \"created_time\": \"2020-11-17T17:21:16.542094Z\", \"created_time_dt\": \"2020-11-17T17:21:16.542094Z\", \"duration\": \"0:05:47\", \"iteration\": \"8\", \"goal\": \"accuracy_max\", \"run_name\": \"MaxAbsScaler, ExtremeRandomTrees\", \"run_properties\": \"copy=True\", \"primary_metric\": 0.81458733, \"best_metric\": 0.85950096}, {\"run_id\": \"AutoML_38a858e6-9d41-4f16-95e8-75a0af28f245_6\", \"run_number\": 15, \"metric\": null, \"status\": \"Completed\", \"run_type\": \"azureml.scriptrun\", \"training_percent\": \"100\", \"start_time\": \"2020-11-17T17:24:07.665527Z\", \"end_time\": \"2020-11-17T17:27:15.887408Z\", \"created_time\": \"2020-11-17T17:21:16.551625Z\", \"created_time_dt\": \"2020-11-17T17:21:16.551625Z\", \"duration\": \"0:05:59\", \"iteration\": \"6\", \"goal\": \"accuracy_max\", \"run_name\": \"MaxAbsScaler, ExtremeRandomTrees\", \"run_properties\": \"copy=True\", \"primary_metric\": 0.8134357, \"best_metric\": 0.85950096}, {\"run_id\": \"AutoML_38a858e6-9d41-4f16-95e8-75a0af28f245_16\", \"run_number\": 16, \"metric\": null, \"status\": \"Completed\", \"run_type\": \"azureml.scriptrun\", \"training_percent\": \"100\", \"start_time\": \"2020-11-17T17:23:14.333054Z\", \"end_time\": \"2020-11-17T17:23:49.085612Z\", \"created_time\": \"2020-11-17T17:21:16.74251Z\", \"created_time_dt\": \"2020-11-17T17:21:16.74251Z\", \"duration\": \"0:02:32\", \"iteration\": \"16\", \"goal\": \"accuracy_max\", \"run_name\": \"MaxAbsScaler, RandomForest\", \"run_properties\": \"copy=True\", \"primary_metric\": 0.78195777, \"best_metric\": 0.85950096}, {\"run_id\": \"AutoML_38a858e6-9d41-4f16-95e8-75a0af28f245_17\", \"run_number\": 17, \"metric\": null, \"status\": \"Completed\", \"run_type\": \"azureml.scriptrun\", \"training_percent\": \"100\", \"start_time\": \"2020-11-17T17:24:09.971064Z\", \"end_time\": \"2020-11-17T17:27:08.004026Z\", \"created_time\": \"2020-11-17T17:21:16.811266Z\", \"created_time_dt\": \"2020-11-17T17:21:16.811266Z\", \"duration\": \"0:05:51\", \"iteration\": \"17\", \"goal\": \"accuracy_max\", \"run_name\": \"MaxAbsScaler, ExtremeRandomTrees\", \"run_properties\": \"copy=True\", \"primary_metric\": 0.80729367, \"best_metric\": 0.85950096}, {\"run_id\": \"AutoML_38a858e6-9d41-4f16-95e8-75a0af28f245_19\", \"run_number\": 18, \"metric\": null, \"status\": \"Completed\", \"run_type\": \"azureml.scriptrun\", \"training_percent\": \"100\", \"start_time\": \"2020-11-17T17:24:05.889182Z\", \"end_time\": \"2020-11-17T17:27:10.092303Z\", \"created_time\": \"2020-11-17T17:21:16.81396Z\", \"created_time_dt\": \"2020-11-17T17:21:16.81396Z\", \"duration\": \"0:05:53\", \"iteration\": \"19\", \"goal\": \"accuracy_max\", \"run_name\": \"MaxAbsScaler, SGD\", \"run_properties\": \"copy=True\", \"primary_metric\": 0.83953935, \"best_metric\": 0.85950096}, {\"run_id\": \"AutoML_38a858e6-9d41-4f16-95e8-75a0af28f245_14\", \"run_number\": 19, \"metric\": null, \"status\": \"Completed\", \"run_type\": \"azureml.scriptrun\", \"training_percent\": \"100\", \"start_time\": \"2020-11-17T17:24:09.011494Z\", \"end_time\": \"2020-11-17T17:27:13.984431Z\", \"created_time\": \"2020-11-17T17:21:16.883454Z\", \"created_time_dt\": \"2020-11-17T17:21:16.883454Z\", \"duration\": \"0:05:57\", \"iteration\": \"14\", \"goal\": \"accuracy_max\", \"run_name\": \"MaxAbsScaler, RandomForest\", \"run_properties\": \"copy=True\", \"primary_metric\": 0.70786948, \"best_metric\": 0.85950096}, {\"run_id\": \"AutoML_38a858e6-9d41-4f16-95e8-75a0af28f245_7\", \"run_number\": 20, \"metric\": null, \"status\": \"Completed\", \"run_type\": \"azureml.scriptrun\", \"training_percent\": \"100\", \"start_time\": \"2020-11-17T17:24:08.643848Z\", \"end_time\": \"2020-11-17T17:27:13.989078Z\", \"created_time\": \"2020-11-17T17:21:16.337548Z\", \"created_time_dt\": \"2020-11-17T17:21:16.337548Z\", \"duration\": \"0:05:57\", \"iteration\": \"7\", \"goal\": \"accuracy_max\", \"run_name\": \"MaxAbsScaler, ExtremeRandomTrees\", \"run_properties\": \"copy=True\", \"primary_metric\": 0.81727447, \"best_metric\": 0.85950096}, {\"run_id\": \"AutoML_38a858e6-9d41-4f16-95e8-75a0af28f245_15\", \"run_number\": 21, \"metric\": null, \"status\": \"Completed\", \"run_type\": \"azureml.scriptrun\", \"training_percent\": \"100\", \"start_time\": \"2020-11-17T17:24:07.863759Z\", \"end_time\": \"2020-11-17T17:27:11.870631Z\", \"created_time\": \"2020-11-17T17:21:16.468017Z\", \"created_time_dt\": \"2020-11-17T17:21:16.468017Z\", \"duration\": \"0:05:55\", \"iteration\": \"15\", \"goal\": \"accuracy_max\", \"run_name\": \"MaxAbsScaler, SGD\", \"run_properties\": \"copy=True\", \"primary_metric\": 0.79193858, \"best_metric\": 0.85950096}, {\"run_id\": \"AutoML_38a858e6-9d41-4f16-95e8-75a0af28f245_18\", \"run_number\": 22, \"metric\": null, \"status\": \"Completed\", \"run_type\": \"azureml.scriptrun\", \"training_percent\": \"100\", \"start_time\": \"2020-11-17T17:24:06.799699Z\", \"end_time\": \"2020-11-17T17:27:13.656412Z\", \"created_time\": \"2020-11-17T17:21:16.540695Z\", \"created_time_dt\": \"2020-11-17T17:21:16.540695Z\", \"duration\": \"0:05:57\", \"iteration\": \"18\", \"goal\": \"accuracy_max\", \"run_name\": \"SparseNormalizer, ExtremeRandomTrees\", \"run_properties\": \"<azureml.automl.runtime.shared.model_wrappers.SparseNormalizer object at 0x7fb1ffbf6eb8\", \"primary_metric\": 0.68867562, \"best_metric\": 0.85950096}, {\"run_id\": \"AutoML_38a858e6-9d41-4f16-95e8-75a0af28f245_13\", \"run_number\": 23, \"metric\": null, \"status\": \"Completed\", \"run_type\": \"azureml.scriptrun\", \"training_percent\": \"100\", \"start_time\": \"2020-11-17T17:24:08.151168Z\", \"end_time\": \"2020-11-17T17:27:06.780174Z\", \"created_time\": \"2020-11-17T17:21:16.747154Z\", \"created_time_dt\": \"2020-11-17T17:21:16.747154Z\", \"duration\": \"0:05:50\", \"iteration\": \"13\", \"goal\": \"accuracy_max\", \"run_name\": \"StandardScalerWrapper, ExtremeRandomTrees\", \"run_properties\": \"<azureml.automl.runtime.shared.model_wrappers.StandardScalerWrapper object at 0x7f3c153160b8\", \"primary_metric\": 0.8049904, \"best_metric\": 0.85950096}, {\"run_id\": \"AutoML_38a858e6-9d41-4f16-95e8-75a0af28f245_5\", \"run_number\": 24, \"metric\": null, \"status\": \"Completed\", \"run_type\": \"azureml.scriptrun\", \"training_percent\": \"100\", \"start_time\": \"2020-11-17T17:24:08.049721Z\", \"end_time\": \"2020-11-17T17:27:08.342617Z\", \"created_time\": \"2020-11-17T17:21:18.353663Z\", \"created_time_dt\": \"2020-11-17T17:21:18.353663Z\", \"duration\": \"0:05:49\", \"iteration\": \"5\", \"goal\": \"accuracy_max\", \"run_name\": \"MaxAbsScaler, SGD\", \"run_properties\": \"copy=True\", \"primary_metric\": 0.83953935, \"best_metric\": 0.85950096}], \"children_metrics\": {\"categories\": [0], \"series\": {\"recall_score_weighted\": [{\"categories\": [\"0\", \"1\", \"2\", \"3\", \"4\", \"5\", \"6\", \"7\", \"8\", \"9\", \"10\", \"11\", \"12\", \"13\", \"14\", \"15\", \"16\", \"17\", \"18\", \"19\"], \"mode\": \"markers\", \"name\": \"recall_score_weighted\", \"stepped\": false, \"type\": \"scatter\", \"data\": [0.8595009596928983, 0.8560460652591171, 0.836468330134357, 0.7792706333973128, 0.7834932821497121, 0.8395393474088292, 0.8134357005758157, 0.8172744721689059, 0.8145873320537428, 0.6967370441458733, 0.8345489443378119, 0.8330134357005758, 0.799232245681382, 0.8049904030710173, 0.707869481765835, 0.7919385796545105, 0.781957773512476, 0.8072936660268714, 0.6886756238003838, 0.8395393474088292]}, {\"categories\": [\"0\", \"1\", \"2\", \"3\", \"4\", \"5\", \"6\", \"7\", \"8\", \"9\", \"10\", \"11\", \"12\", \"13\", \"14\", \"15\", \"16\", \"17\", \"18\", \"19\"], \"mode\": \"lines\", \"name\": \"recall_score_weighted_max\", \"stepped\": true, \"type\": \"scatter\", \"data\": [0.8595009596928983, 0.8595009596928983, 0.8595009596928983, 0.8595009596928983, 0.8595009596928983, 0.8595009596928983, 0.8595009596928983, 0.8595009596928983, 0.8595009596928983, 0.8595009596928983, 0.8595009596928983, 0.8595009596928983, 0.8595009596928983, 0.8595009596928983, 0.8595009596928983, 0.8595009596928983, 0.8595009596928983, 0.8595009596928983, 0.8595009596928983, 0.8595009596928983]}], \"recall_score_macro\": [{\"categories\": [\"0\", \"1\", \"2\", \"3\", \"4\", \"5\", \"6\", \"7\", \"8\", \"9\", \"10\", \"11\", \"12\", \"13\", \"14\", \"15\", \"16\", \"17\", \"18\", \"19\"], \"mode\": \"markers\", \"name\": \"recall_score_macro\", \"stepped\": false, \"type\": \"scatter\", \"data\": [0.7800300917750761, 0.7625043742733062, 0.700592482216664, 0.5480033155782185, 0.8056883291969237, 0.7293034382997663, 0.7001316716738993, 0.685774782576443, 0.6758353047800123, 0.7398452353883145, 0.7227492851993943, 0.7092108085269705, 0.583479276829817, 0.6569884357921184, 0.740095193862955, 0.8123388372576814, 0.5470494417862839, 0.6628624599461702, 0.7405281864464452, 0.7505454738970784]}, {\"categories\": [\"0\", \"1\", \"2\", \"3\", \"4\", \"5\", \"6\", \"7\", \"8\", \"9\", \"10\", \"11\", \"12\", \"13\", \"14\", \"15\", \"16\", \"17\", \"18\", \"19\"], \"mode\": \"lines\", \"name\": \"recall_score_macro_max\", \"stepped\": true, \"type\": \"scatter\", \"data\": [0.7800300917750761, 0.7800300917750761, 0.7800300917750761, 0.7800300917750761, 0.8056883291969237, 0.8056883291969237, 0.8056883291969237, 0.8056883291969237, 0.8056883291969237, 0.8056883291969237, 0.8056883291969237, 0.8056883291969237, 0.8056883291969237, 0.8056883291969237, 0.8056883291969237, 0.8123388372576814, 0.8123388372576814, 0.8123388372576814, 0.8123388372576814, 0.8123388372576814]}], \"accuracy\": [{\"categories\": [\"0\", \"1\", \"2\", \"3\", \"4\", \"5\", \"6\", \"7\", \"8\", \"9\", \"10\", \"11\", \"12\", \"13\", \"14\", \"15\", \"16\", \"17\", \"18\", \"19\"], \"mode\": \"markers\", \"name\": \"accuracy\", \"stepped\": false, \"type\": \"scatter\", \"data\": [0.8595009596928983, 0.8560460652591171, 0.836468330134357, 0.7792706333973128, 0.7834932821497121, 0.8395393474088292, 0.8134357005758157, 0.8172744721689059, 0.8145873320537428, 0.6967370441458733, 0.8345489443378119, 0.8330134357005758, 0.799232245681382, 0.8049904030710173, 0.707869481765835, 0.7919385796545105, 0.781957773512476, 0.8072936660268714, 0.6886756238003838, 0.8395393474088292]}, {\"categories\": [\"0\", \"1\", \"2\", \"3\", \"4\", \"5\", \"6\", \"7\", \"8\", \"9\", \"10\", \"11\", \"12\", \"13\", \"14\", \"15\", \"16\", \"17\", \"18\", \"19\"], \"mode\": \"lines\", \"name\": \"accuracy_max\", \"stepped\": true, \"type\": \"scatter\", \"data\": [0.8595009596928983, 0.8595009596928983, 0.8595009596928983, 0.8595009596928983, 0.8595009596928983, 0.8595009596928983, 0.8595009596928983, 0.8595009596928983, 0.8595009596928983, 0.8595009596928983, 0.8595009596928983, 0.8595009596928983, 0.8595009596928983, 0.8595009596928983, 0.8595009596928983, 0.8595009596928983, 0.8595009596928983, 0.8595009596928983, 0.8595009596928983, 0.8595009596928983]}], \"balanced_accuracy\": [{\"categories\": [\"0\", \"1\", \"2\", \"3\", \"4\", \"5\", \"6\", \"7\", \"8\", \"9\", \"10\", \"11\", \"12\", \"13\", \"14\", \"15\", \"16\", \"17\", \"18\", \"19\"], \"mode\": \"markers\", \"name\": \"balanced_accuracy\", \"stepped\": false, \"type\": \"scatter\", \"data\": [0.7800300917750761, 0.7625043742733062, 0.700592482216664, 0.5480033155782185, 0.8056883291969237, 0.7293034382997663, 0.7001316716738993, 0.685774782576443, 0.6758353047800123, 0.7398452353883145, 0.7227492851993943, 0.7092108085269705, 0.583479276829817, 0.6569884357921184, 0.740095193862955, 0.8123388372576814, 0.5470494417862839, 0.6628624599461702, 0.7405281864464452, 0.7505454738970784]}, {\"categories\": [\"0\", \"1\", \"2\", \"3\", \"4\", \"5\", \"6\", \"7\", \"8\", \"9\", \"10\", \"11\", \"12\", \"13\", \"14\", \"15\", \"16\", \"17\", \"18\", \"19\"], \"mode\": \"lines\", \"name\": \"balanced_accuracy_max\", \"stepped\": true, \"type\": \"scatter\", \"data\": [0.7800300917750761, 0.7800300917750761, 0.7800300917750761, 0.7800300917750761, 0.8056883291969237, 0.8056883291969237, 0.8056883291969237, 0.8056883291969237, 0.8056883291969237, 0.8056883291969237, 0.8056883291969237, 0.8056883291969237, 0.8056883291969237, 0.8056883291969237, 0.8056883291969237, 0.8123388372576814, 0.8123388372576814, 0.8123388372576814, 0.8123388372576814, 0.8123388372576814]}], \"f1_score_micro\": [{\"categories\": [\"0\", \"1\", \"2\", \"3\", \"4\", \"5\", \"6\", \"7\", \"8\", \"9\", \"10\", \"11\", \"12\", \"13\", \"14\", \"15\", \"16\", \"17\", \"18\", \"19\"], \"mode\": \"markers\", \"name\": \"f1_score_micro\", \"stepped\": false, \"type\": \"scatter\", \"data\": [0.8595009596928983, 0.8560460652591171, 0.836468330134357, 0.7792706333973128, 0.7834932821497121, 0.8395393474088292, 0.8134357005758157, 0.8172744721689059, 0.8145873320537428, 0.6967370441458733, 0.834548944337812, 0.8330134357005758, 0.799232245681382, 0.8049904030710173, 0.707869481765835, 0.7919385796545105, 0.781957773512476, 0.8072936660268714, 0.6886756238003838, 0.8395393474088292]}, {\"categories\": [\"0\", \"1\", \"2\", \"3\", \"4\", \"5\", \"6\", \"7\", \"8\", \"9\", \"10\", \"11\", \"12\", \"13\", \"14\", \"15\", \"16\", \"17\", \"18\", \"19\"], \"mode\": \"lines\", \"name\": \"f1_score_micro_max\", \"stepped\": true, \"type\": \"scatter\", \"data\": [0.8595009596928983, 0.8595009596928983, 0.8595009596928983, 0.8595009596928983, 0.8595009596928983, 0.8595009596928983, 0.8595009596928983, 0.8595009596928983, 0.8595009596928983, 0.8595009596928983, 0.8595009596928983, 0.8595009596928983, 0.8595009596928983, 0.8595009596928983, 0.8595009596928983, 0.8595009596928983, 0.8595009596928983, 0.8595009596928983, 0.8595009596928983, 0.8595009596928983]}], \"average_precision_score_macro\": [{\"categories\": [\"0\", \"1\", \"2\", \"3\", \"4\", \"5\", \"6\", \"7\", \"8\", \"9\", \"10\", \"11\", \"12\", \"13\", \"14\", \"15\", \"16\", \"17\", \"18\", \"19\"], \"mode\": \"markers\", \"name\": \"average_precision_score_macro\", \"stepped\": false, \"type\": \"scatter\", \"data\": [0.894213347267832, 0.8846178292408224, 0.8428855869874787, 0.784571346624201, 0.8378738502244004, 0.8456106635746168, 0.7771498946644242, 0.8064095086245653, 0.8010645763039415, 0.7753250166068894, 0.8320652313148329, 0.8305440223712011, 0.8354525066197365, 0.7745379166869162, 0.793639050593997, 0.8413306268529424, 0.815005544936186, 0.7909563662760128, 0.7765500378454231, 0.8469497419763596]}, {\"categories\": [\"0\", \"1\", \"2\", \"3\", \"4\", \"5\", \"6\", \"7\", \"8\", \"9\", \"10\", \"11\", \"12\", \"13\", \"14\", \"15\", \"16\", \"17\", \"18\", \"19\"], \"mode\": \"lines\", \"name\": \"average_precision_score_macro_max\", \"stepped\": true, \"type\": \"scatter\", \"data\": [0.894213347267832, 0.894213347267832, 0.894213347267832, 0.894213347267832, 0.894213347267832, 0.894213347267832, 0.894213347267832, 0.894213347267832, 0.894213347267832, 0.894213347267832, 0.894213347267832, 0.894213347267832, 0.894213347267832, 0.894213347267832, 0.894213347267832, 0.894213347267832, 0.894213347267832, 0.894213347267832, 0.894213347267832, 0.894213347267832]}], \"precision_score_weighted\": [{\"categories\": [\"0\", \"1\", \"2\", \"3\", \"4\", \"5\", \"6\", \"7\", \"8\", \"9\", \"10\", \"11\", \"12\", \"13\", \"14\", \"15\", \"16\", \"17\", \"18\", \"19\"], \"mode\": \"markers\", \"name\": \"precision_score_weighted\", \"stepped\": false, \"type\": \"scatter\", \"data\": [0.8540611461475185, 0.8495699425059468, 0.830491488593308, 0.7929605823882503, 0.8422571579319825, 0.8307297034177793, 0.8010960494795443, 0.8040375964005936, 0.8008170120007965, 0.8034637933576916, 0.8248904442957008, 0.8234874294156147, 0.8391221639128255, 0.7884333678706793, 0.801239477769844, 0.8465245698935915, 0.8306019151640525, 0.7914127130623563, 0.8062222945189242, 0.8323002259233026]}, {\"categories\": [\"0\", \"1\", \"2\", \"3\", \"4\", \"5\", \"6\", \"7\", \"8\", \"9\", \"10\", \"11\", \"12\", \"13\", \"14\", \"15\", \"16\", \"17\", \"18\", \"19\"], \"mode\": \"lines\", \"name\": \"precision_score_weighted_max\", \"stepped\": true, \"type\": \"scatter\", \"data\": [0.8540611461475185, 0.8540611461475185, 0.8540611461475185, 0.8540611461475185, 0.8540611461475185, 0.8540611461475185, 0.8540611461475185, 0.8540611461475185, 0.8540611461475185, 0.8540611461475185, 0.8540611461475185, 0.8540611461475185, 0.8540611461475185, 0.8540611461475185, 0.8540611461475185, 0.8540611461475185, 0.8540611461475185, 0.8540611461475185, 0.8540611461475185, 0.8540611461475185]}], \"norm_macro_recall\": [{\"categories\": [\"0\", \"1\", \"2\", \"3\", \"4\", \"5\", \"6\", \"7\", \"8\", \"9\", \"10\", \"11\", \"12\", \"13\", \"14\", \"15\", \"16\", \"17\", \"18\", \"19\"], \"mode\": \"markers\", \"name\": \"norm_macro_recall\", \"stepped\": false, \"type\": \"scatter\", \"data\": [0.5600601835501522, 0.5250087485466124, 0.4011849644333281, 0.09600663115643693, 0.6113766583938474, 0.4586068765995326, 0.4002633433477987, 0.37154956515288595, 0.3516706095600246, 0.47969047077662896, 0.4454985703987886, 0.418421617053941, 0.16695855365963408, 0.3139768715842368, 0.48019038772590994, 0.6246776745153628, 0.09409888357256779, 0.3257249198923404, 0.4810563728928905, 0.5010909477941567]}, {\"categories\": [\"0\", \"1\", \"2\", \"3\", \"4\", \"5\", \"6\", \"7\", \"8\", \"9\", \"10\", \"11\", \"12\", \"13\", \"14\", \"15\", \"16\", \"17\", \"18\", \"19\"], \"mode\": \"lines\", \"name\": \"norm_macro_recall_max\", \"stepped\": true, \"type\": \"scatter\", \"data\": [0.5600601835501522, 0.5600601835501522, 0.5600601835501522, 0.5600601835501522, 0.6113766583938474, 0.6113766583938474, 0.6113766583938474, 0.6113766583938474, 0.6113766583938474, 0.6113766583938474, 0.6113766583938474, 0.6113766583938474, 0.6113766583938474, 0.6113766583938474, 0.6113766583938474, 0.6246776745153628, 0.6246776745153628, 0.6246776745153628, 0.6246776745153628, 0.6246776745153628]}], \"f1_score_macro\": [{\"categories\": [\"0\", \"1\", \"2\", \"3\", \"4\", \"5\", \"6\", \"7\", \"8\", \"9\", \"10\", \"11\", \"12\", \"13\", \"14\", \"15\", \"16\", \"17\", \"18\", \"19\"], \"mode\": \"markers\", \"name\": \"f1_score_macro\", \"stepped\": false, \"type\": \"scatter\", \"data\": [0.7960497268769509, 0.7846407372093407, 0.7314552568202761, 0.527248746299813, 0.7480543586071224, 0.7535055995421849, 0.7180836376592143, 0.709433442313172, 0.6999910584953235, 0.6666173114381875, 0.746016417298993, 0.7358335518839059, 0.5848372811041793, 0.6792574840081981, 0.6741491845285028, 0.7563992408557625, 0.5232295267481756, 0.6855244729683454, 0.6613480165266072, 0.7659058231488138]}, {\"categories\": [\"0\", \"1\", \"2\", \"3\", \"4\", \"5\", \"6\", \"7\", \"8\", \"9\", \"10\", \"11\", \"12\", \"13\", \"14\", \"15\", \"16\", \"17\", \"18\", \"19\"], \"mode\": \"lines\", \"name\": \"f1_score_macro_max\", \"stepped\": true, \"type\": \"scatter\", \"data\": [0.7960497268769509, 0.7960497268769509, 0.7960497268769509, 0.7960497268769509, 0.7960497268769509, 0.7960497268769509, 0.7960497268769509, 0.7960497268769509, 0.7960497268769509, 0.7960497268769509, 0.7960497268769509, 0.7960497268769509, 0.7960497268769509, 0.7960497268769509, 0.7960497268769509, 0.7960497268769509, 0.7960497268769509, 0.7960497268769509, 0.7960497268769509, 0.7960497268769509]}], \"f1_score_weighted\": [{\"categories\": [\"0\", \"1\", \"2\", \"3\", \"4\", \"5\", \"6\", \"7\", \"8\", \"9\", \"10\", \"11\", \"12\", \"13\", \"14\", \"15\", \"16\", \"17\", \"18\", \"19\"], \"mode\": \"markers\", \"name\": \"f1_score_weighted\", \"stepped\": false, \"type\": \"scatter\", \"data\": [0.8550467093506913, 0.8489531360061726, 0.818547130391377, 0.7062611382392043, 0.7970594616839276, 0.8290297017954898, 0.8031137610917745, 0.8012376208482044, 0.7961522793508665, 0.7185863521637091, 0.8237845863688528, 0.8189285031727165, 0.7395635616297138, 0.7834053525881299, 0.7285120980937004, 0.8046541621794897, 0.7053774482586341, 0.7870113204835019, 0.7112393644007589, 0.8339954133440778]}, {\"categories\": [\"0\", \"1\", \"2\", \"3\", \"4\", \"5\", \"6\", \"7\", \"8\", \"9\", \"10\", \"11\", \"12\", \"13\", \"14\", \"15\", \"16\", \"17\", \"18\", \"19\"], \"mode\": \"lines\", \"name\": \"f1_score_weighted_max\", \"stepped\": true, \"type\": \"scatter\", \"data\": [0.8550467093506913, 0.8550467093506913, 0.8550467093506913, 0.8550467093506913, 0.8550467093506913, 0.8550467093506913, 0.8550467093506913, 0.8550467093506913, 0.8550467093506913, 0.8550467093506913, 0.8550467093506913, 0.8550467093506913, 0.8550467093506913, 0.8550467093506913, 0.8550467093506913, 0.8550467093506913, 0.8550467093506913, 0.8550467093506913, 0.8550467093506913, 0.8550467093506913]}], \"AUC_macro\": [{\"categories\": [\"0\", \"1\", \"2\", \"3\", \"4\", \"5\", \"6\", \"7\", \"8\", \"9\", \"10\", \"11\", \"12\", \"13\", \"14\", \"15\", \"16\", \"17\", \"18\", \"19\"], \"mode\": \"markers\", \"name\": \"AUC_macro\", \"stepped\": false, \"type\": \"scatter\", \"data\": [0.9216065718114572, 0.912404471515216, 0.8815672557623492, 0.8412666927913589, 0.8844639519563684, 0.8906226062444464, 0.8422479813837378, 0.8595576057525927, 0.8548108136874035, 0.8307075598731178, 0.8788519810418591, 0.8774856757667677, 0.8722950058296768, 0.8421173579227967, 0.8378317795592023, 0.891359580585806, 0.8542463913253121, 0.8499059833608287, 0.8354551582559671, 0.8895691522214858]}, {\"categories\": [\"0\", \"1\", \"2\", \"3\", \"4\", \"5\", \"6\", \"7\", \"8\", \"9\", \"10\", \"11\", \"12\", \"13\", \"14\", \"15\", \"16\", \"17\", \"18\", \"19\"], \"mode\": \"lines\", \"name\": \"AUC_macro_max\", \"stepped\": true, \"type\": \"scatter\", \"data\": [0.9216065718114572, 0.9216065718114572, 0.9216065718114572, 0.9216065718114572, 0.9216065718114572, 0.9216065718114572, 0.9216065718114572, 0.9216065718114572, 0.9216065718114572, 0.9216065718114572, 0.9216065718114572, 0.9216065718114572, 0.9216065718114572, 0.9216065718114572, 0.9216065718114572, 0.9216065718114572, 0.9216065718114572, 0.9216065718114572, 0.9216065718114572, 0.9216065718114572]}], \"precision_score_macro\": [{\"categories\": [\"0\", \"1\", \"2\", \"3\", \"4\", \"5\", \"6\", \"7\", \"8\", \"9\", \"10\", \"11\", \"12\", \"13\", \"14\", \"15\", \"16\", \"17\", \"18\", \"19\"], \"mode\": \"markers\", \"name\": \"precision_score_macro\", \"stepped\": false, \"type\": \"scatter\", \"data\": [0.8180357142857142, 0.8202100705612045, 0.8159686236257595, 0.8097438138644357, 0.7361207994001011, 0.799075902801002, 0.7502702304824017, 0.7661498439366321, 0.7649025286194632, 0.6765378794622986, 0.7900010497585556, 0.7953877907890153, 0.8908412421572403, 0.7484895204498638, 0.6782932159750913, 0.7429491867292681, 0.8884524744697565, 0.7516809214789119, 0.6762668508685576, 0.7878454389826364]}, {\"categories\": [\"0\", \"1\", \"2\", \"3\", \"4\", \"5\", \"6\", \"7\", \"8\", \"9\", \"10\", \"11\", \"12\", \"13\", \"14\", \"15\", \"16\", \"17\", \"18\", \"19\"], \"mode\": \"lines\", \"name\": \"precision_score_macro_max\", \"stepped\": true, \"type\": \"scatter\", \"data\": [0.8180357142857142, 0.8202100705612045, 0.8202100705612045, 0.8202100705612045, 0.8202100705612045, 0.8202100705612045, 0.8202100705612045, 0.8202100705612045, 0.8202100705612045, 0.8202100705612045, 0.8202100705612045, 0.8202100705612045, 0.8908412421572403, 0.8908412421572403, 0.8908412421572403, 0.8908412421572403, 0.8908412421572403, 0.8908412421572403, 0.8908412421572403, 0.8908412421572403]}], \"AUC_weighted\": [{\"categories\": [\"0\", \"1\", \"2\", \"3\", \"4\", \"5\", \"6\", \"7\", \"8\", \"9\", \"10\", \"11\", \"12\", \"13\", \"14\", \"15\", \"16\", \"17\", \"18\", \"19\"], \"mode\": \"markers\", \"name\": \"AUC_weighted\", \"stepped\": false, \"type\": \"scatter\", \"data\": [0.9216065718114571, 0.912404471515216, 0.8815672557623491, 0.8412666927913589, 0.8844639519563684, 0.8906226062444463, 0.842247981383738, 0.8595576057525927, 0.8548108136874037, 0.8307075598731178, 0.878851981041859, 0.8774856757667678, 0.8722950058296768, 0.8421173579227967, 0.8378317795592023, 0.891359580585806, 0.8542463913253122, 0.8499059833608287, 0.8354551582559672, 0.8895691522214858]}, {\"categories\": [\"0\", \"1\", \"2\", \"3\", \"4\", \"5\", \"6\", \"7\", \"8\", \"9\", \"10\", \"11\", \"12\", \"13\", \"14\", \"15\", \"16\", \"17\", \"18\", \"19\"], \"mode\": \"lines\", \"name\": \"AUC_weighted_max\", \"stepped\": true, \"type\": \"scatter\", \"data\": [0.9216065718114571, 0.9216065718114571, 0.9216065718114571, 0.9216065718114571, 0.9216065718114571, 0.9216065718114571, 0.9216065718114571, 0.9216065718114571, 0.9216065718114571, 0.9216065718114571, 0.9216065718114571, 0.9216065718114571, 0.9216065718114571, 0.9216065718114571, 0.9216065718114571, 0.9216065718114571, 0.9216065718114571, 0.9216065718114571, 0.9216065718114571, 0.9216065718114571]}], \"log_loss\": [{\"categories\": [\"0\", \"1\", \"2\", \"3\", \"4\", \"5\", \"6\", \"7\", \"8\", \"9\", \"10\", \"11\", \"12\", \"13\", \"14\", \"15\", \"16\", \"17\", \"18\", \"19\"], \"mode\": \"markers\", \"name\": \"log_loss\", \"stepped\": false, \"type\": \"scatter\", \"data\": [0.28843394881110923, 0.30342050304260126, 0.36929294832472837, 0.42773035893596795, 0.4378264419140297, 0.3449093980797798, 0.4016059783617088, 0.3890500507161683, 0.396231262517952, 0.5182632391564242, 0.5297174418106233, 0.5800407865831397, 0.4197439185119514, 0.41087765355374356, 0.5833576251862896, 0.5803224257439394, 0.4333031611952495, 0.3984824967602418, 0.5219249570815836, 0.5009921881395191]}, {\"categories\": [\"0\", \"1\", \"2\", \"3\", \"4\", \"5\", \"6\", \"7\", \"8\", \"9\", \"10\", \"11\", \"12\", \"13\", \"14\", \"15\", \"16\", \"17\", \"18\", \"19\"], \"mode\": \"lines\", \"name\": \"log_loss_min\", \"stepped\": true, \"type\": \"scatter\", \"data\": [0.28843394881110923, 0.28843394881110923, 0.28843394881110923, 0.28843394881110923, 0.28843394881110923, 0.28843394881110923, 0.28843394881110923, 0.28843394881110923, 0.28843394881110923, 0.28843394881110923, 0.28843394881110923, 0.28843394881110923, 0.28843394881110923, 0.28843394881110923, 0.28843394881110923, 0.28843394881110923, 0.28843394881110923, 0.28843394881110923, 0.28843394881110923, 0.28843394881110923]}], \"precision_score_micro\": [{\"categories\": [\"0\", \"1\", \"2\", \"3\", \"4\", \"5\", \"6\", \"7\", \"8\", \"9\", \"10\", \"11\", \"12\", \"13\", \"14\", \"15\", \"16\", \"17\", \"18\", \"19\"], \"mode\": \"markers\", \"name\": \"precision_score_micro\", \"stepped\": false, \"type\": \"scatter\", \"data\": [0.8595009596928983, 0.8560460652591171, 0.836468330134357, 0.7792706333973128, 0.7834932821497121, 0.8395393474088292, 0.8134357005758157, 0.8172744721689059, 0.8145873320537428, 0.6967370441458733, 0.8345489443378119, 0.8330134357005758, 0.799232245681382, 0.8049904030710173, 0.707869481765835, 0.7919385796545105, 0.781957773512476, 0.8072936660268714, 0.6886756238003838, 0.8395393474088292]}, {\"categories\": [\"0\", \"1\", \"2\", \"3\", \"4\", \"5\", \"6\", \"7\", \"8\", \"9\", \"10\", \"11\", \"12\", \"13\", \"14\", \"15\", \"16\", \"17\", \"18\", \"19\"], \"mode\": \"lines\", \"name\": \"precision_score_micro_max\", \"stepped\": true, \"type\": \"scatter\", \"data\": [0.8595009596928983, 0.8595009596928983, 0.8595009596928983, 0.8595009596928983, 0.8595009596928983, 0.8595009596928983, 0.8595009596928983, 0.8595009596928983, 0.8595009596928983, 0.8595009596928983, 0.8595009596928983, 0.8595009596928983, 0.8595009596928983, 0.8595009596928983, 0.8595009596928983, 0.8595009596928983, 0.8595009596928983, 0.8595009596928983, 0.8595009596928983, 0.8595009596928983]}], \"average_precision_score_weighted\": [{\"categories\": [\"0\", \"1\", \"2\", \"3\", \"4\", \"5\", \"6\", \"7\", \"8\", \"9\", \"10\", \"11\", \"12\", \"13\", \"14\", \"15\", \"16\", \"17\", \"18\", \"19\"], \"mode\": \"markers\", \"name\": \"average_precision_score_weighted\", \"stepped\": false, \"type\": \"scatter\", \"data\": [0.9353711980884474, 0.9289197485073444, 0.9029131556998294, 0.8674859961285235, 0.9014757121393786, 0.9063987086643098, 0.8627135564983569, 0.8819348886789046, 0.878313484736623, 0.861222913298544, 0.8952688481108672, 0.8935408963513033, 0.8973290881298012, 0.86259672408259, 0.8715635219930186, 0.9041054351826907, 0.8849781797767435, 0.8722991252272304, 0.8624216582910671, 0.9045570574185156]}, {\"categories\": [\"0\", \"1\", \"2\", \"3\", \"4\", \"5\", \"6\", \"7\", \"8\", \"9\", \"10\", \"11\", \"12\", \"13\", \"14\", \"15\", \"16\", \"17\", \"18\", \"19\"], \"mode\": \"lines\", \"name\": \"average_precision_score_weighted_max\", \"stepped\": true, \"type\": \"scatter\", \"data\": [0.9353711980884474, 0.9353711980884474, 0.9353711980884474, 0.9353711980884474, 0.9353711980884474, 0.9353711980884474, 0.9353711980884474, 0.9353711980884474, 0.9353711980884474, 0.9353711980884474, 0.9353711980884474, 0.9353711980884474, 0.9353711980884474, 0.9353711980884474, 0.9353711980884474, 0.9353711980884474, 0.9353711980884474, 0.9353711980884474, 0.9353711980884474, 0.9353711980884474]}], \"weighted_accuracy\": [{\"categories\": [\"0\", \"1\", \"2\", \"3\", \"4\", \"5\", \"6\", \"7\", \"8\", \"9\", \"10\", \"11\", \"12\", \"13\", \"14\", \"15\", \"16\", \"17\", \"18\", \"19\"], \"mode\": \"markers\", \"name\": \"weighted_accuracy\", \"stepped\": false, \"type\": \"scatter\", \"data\": [0.9052831733832093, 0.9099343113280268, 0.9147447761793733, 0.9125009609549211, 0.7707069817933009, 0.9030449322779359, 0.8787087924530143, 0.8930298658983052, 0.8945207105236814, 0.6719029322886194, 0.8989553868403871, 0.904334644102942, 0.9235249429059231, 0.890252561017444, 0.6893046356000876, 0.7801862359668648, 0.9172856455050652, 0.8904987512811764, 0.658803984473291, 0.8908076503856709]}, {\"categories\": [\"0\", \"1\", \"2\", \"3\", \"4\", \"5\", \"6\", \"7\", \"8\", \"9\", \"10\", \"11\", \"12\", \"13\", \"14\", \"15\", \"16\", \"17\", \"18\", \"19\"], \"mode\": \"lines\", \"name\": \"weighted_accuracy_max\", \"stepped\": true, \"type\": \"scatter\", \"data\": [0.9052831733832093, 0.9099343113280268, 0.9147447761793733, 0.9147447761793733, 0.9147447761793733, 0.9147447761793733, 0.9147447761793733, 0.9147447761793733, 0.9147447761793733, 0.9147447761793733, 0.9147447761793733, 0.9147447761793733, 0.9235249429059231, 0.9235249429059231, 0.9235249429059231, 0.9235249429059231, 0.9235249429059231, 0.9235249429059231, 0.9235249429059231, 0.9235249429059231]}], \"average_precision_score_micro\": [{\"categories\": [\"0\", \"1\", \"2\", \"3\", \"4\", \"5\", \"6\", \"7\", \"8\", \"9\", \"10\", \"11\", \"12\", \"13\", \"14\", \"15\", \"16\", \"17\", \"18\", \"19\"], \"mode\": \"markers\", \"name\": \"average_precision_score_micro\", \"stepped\": false, \"type\": \"scatter\", \"data\": [0.9504348665131177, 0.9453590815088462, 0.9222921517082022, 0.8903602629391992, 0.8797169824026349, 0.9284574709211981, 0.8980487775525606, 0.9096074106299431, 0.9071753172678125, 0.8501056996871852, 0.9187168161909555, 0.9161559771706911, 0.9037508071412985, 0.8974553296045364, 0.8532594027245597, 0.8837045207754181, 0.8958974918452945, 0.9038400056593253, 0.8376941508010579, 0.9261469883076253]}, {\"categories\": [\"0\", \"1\", \"2\", \"3\", \"4\", \"5\", \"6\", \"7\", \"8\", \"9\", \"10\", \"11\", \"12\", \"13\", \"14\", \"15\", \"16\", \"17\", \"18\", \"19\"], \"mode\": \"lines\", \"name\": \"average_precision_score_micro_max\", \"stepped\": true, \"type\": \"scatter\", \"data\": [0.9504348665131177, 0.9504348665131177, 0.9504348665131177, 0.9504348665131177, 0.9504348665131177, 0.9504348665131177, 0.9504348665131177, 0.9504348665131177, 0.9504348665131177, 0.9504348665131177, 0.9504348665131177, 0.9504348665131177, 0.9504348665131177, 0.9504348665131177, 0.9504348665131177, 0.9504348665131177, 0.9504348665131177, 0.9504348665131177, 0.9504348665131177, 0.9504348665131177]}], \"AUC_micro\": [{\"categories\": [\"0\", \"1\", \"2\", \"3\", \"4\", \"5\", \"6\", \"7\", \"8\", \"9\", \"10\", \"11\", \"12\", \"13\", \"14\", \"15\", \"16\", \"17\", \"18\", \"19\"], \"mode\": \"markers\", \"name\": \"AUC_micro\", \"stepped\": false, \"type\": \"scatter\", \"data\": [0.9480349689251071, 0.9429383180875403, 0.9196206910525675, 0.885428509326152, 0.8745862268411919, 0.9254551817890444, 0.8974227180123858, 0.9059241603147646, 0.9036057191065462, 0.8392356349998711, 0.9192808750336169, 0.9177571553302559, 0.8994286051112397, 0.8947610714667276, 0.840214411234854, 0.8821793317884918, 0.8899136092189464, 0.900550469531132, 0.827305086556563, 0.9266244966677841]}, {\"categories\": [\"0\", \"1\", \"2\", \"3\", \"4\", \"5\", \"6\", \"7\", \"8\", \"9\", \"10\", \"11\", \"12\", \"13\", \"14\", \"15\", \"16\", \"17\", \"18\", \"19\"], \"mode\": \"lines\", \"name\": \"AUC_micro_max\", \"stepped\": true, \"type\": \"scatter\", \"data\": [0.9480349689251071, 0.9480349689251071, 0.9480349689251071, 0.9480349689251071, 0.9480349689251071, 0.9480349689251071, 0.9480349689251071, 0.9480349689251071, 0.9480349689251071, 0.9480349689251071, 0.9480349689251071, 0.9480349689251071, 0.9480349689251071, 0.9480349689251071, 0.9480349689251071, 0.9480349689251071, 0.9480349689251071, 0.9480349689251071, 0.9480349689251071, 0.9480349689251071]}], \"matthews_correlation\": [{\"categories\": [\"0\", \"1\", \"2\", \"3\", \"4\", \"5\", \"6\", \"7\", \"8\", \"9\", \"10\", \"11\", \"12\", \"13\", \"14\", \"15\", \"16\", \"17\", \"18\", \"19\"], \"mode\": \"markers\", \"name\": \"matthews_correlation\", \"stepped\": false, \"type\": \"scatter\", \"data\": [0.5968570021677904, 0.5798501330815755, 0.5035113921876008, 0.24387480431840816, 0.5373243811972761, 0.5237523568438675, 0.44760250042489774, 0.44471981916744857, 0.43164437610977513, 0.4115423149790986, 0.508320869297306, 0.4971853519160254, 0.36125970852312767, 0.3950188913262642, 0.4137987155803617, 0.5509354462937338, 0.2703810058735838, 0.40491665312048847, 0.41181134501147576, 0.5370972795277115]}, {\"categories\": [\"0\", \"1\", \"2\", \"3\", \"4\", \"5\", \"6\", \"7\", \"8\", \"9\", \"10\", \"11\", \"12\", \"13\", \"14\", \"15\", \"16\", \"17\", \"18\", \"19\"], \"mode\": \"lines\", \"name\": \"matthews_correlation_max\", \"stepped\": true, \"type\": \"scatter\", \"data\": [0.5968570021677904, 0.5968570021677904, 0.5968570021677904, 0.5968570021677904, 0.5968570021677904, 0.5968570021677904, 0.5968570021677904, 0.5968570021677904, 0.5968570021677904, 0.5968570021677904, 0.5968570021677904, 0.5968570021677904, 0.5968570021677904, 0.5968570021677904, 0.5968570021677904, 0.5968570021677904, 0.5968570021677904, 0.5968570021677904, 0.5968570021677904, 0.5968570021677904]}], \"recall_score_micro\": [{\"categories\": [\"0\", \"1\", \"2\", \"3\", \"4\", \"5\", \"6\", \"7\", \"8\", \"9\", \"10\", \"11\", \"12\", \"13\", \"14\", \"15\", \"16\", \"17\", \"18\", \"19\"], \"mode\": \"markers\", \"name\": \"recall_score_micro\", \"stepped\": false, \"type\": \"scatter\", \"data\": [0.8595009596928983, 0.8560460652591171, 0.836468330134357, 0.7792706333973128, 0.7834932821497121, 0.8395393474088292, 0.8134357005758157, 0.8172744721689059, 0.8145873320537428, 0.6967370441458733, 0.8345489443378119, 0.8330134357005758, 0.799232245681382, 0.8049904030710173, 0.707869481765835, 0.7919385796545105, 0.781957773512476, 0.8072936660268714, 0.6886756238003838, 0.8395393474088292]}, {\"categories\": [\"0\", \"1\", \"2\", \"3\", \"4\", \"5\", \"6\", \"7\", \"8\", \"9\", \"10\", \"11\", \"12\", \"13\", \"14\", \"15\", \"16\", \"17\", \"18\", \"19\"], \"mode\": \"lines\", \"name\": \"recall_score_micro_max\", \"stepped\": true, \"type\": \"scatter\", \"data\": [0.8595009596928983, 0.8595009596928983, 0.8595009596928983, 0.8595009596928983, 0.8595009596928983, 0.8595009596928983, 0.8595009596928983, 0.8595009596928983, 0.8595009596928983, 0.8595009596928983, 0.8595009596928983, 0.8595009596928983, 0.8595009596928983, 0.8595009596928983, 0.8595009596928983, 0.8595009596928983, 0.8595009596928983, 0.8595009596928983, 0.8595009596928983, 0.8595009596928983]}]}, \"metricName\": null, \"primaryMetricName\": \"accuracy\", \"showLegend\": false}, \"run_metrics\": [{\"name\": \"experiment_status\", \"run_id\": \"AutoML_38a858e6-9d41-4f16-95e8-75a0af28f245\", \"categories\": [0, 1, 2, 3, 4, 5, 6, 7, 8, 9, 10, 11, 12], \"series\": [{\"data\": [\"DatasetEvaluation\", \"FeaturesGeneration\", \"DatasetFeaturization\", \"DatasetFeaturizationCompleted\", \"ModelSelection\", \"BestRunExplainModel\", \"ModelExplanationDataSetSetup\", \"PickSurrogateModel\", \"EngineeredFeatureExplanations\", \"EngineeredFeatureExplanations\", \"RawFeaturesExplanations\", \"RawFeaturesExplanations\", \"BestRunExplainModel\"]}]}, {\"name\": \"experiment_status_description\", \"run_id\": \"AutoML_38a858e6-9d41-4f16-95e8-75a0af28f245\", \"categories\": [0, 1, 2, 3, 4, 5, 6, 7, 8, 9, 10, 11, 12], \"series\": [{\"data\": [\"Gathering dataset statistics.\", \"Generating features for the dataset.\", \"Beginning to fit featurizers and featurize the dataset.\", \"Completed fit featurizers and featurizing the dataset.\", \"Beginning model selection.\", \"Best run model explanations started\", \"Model explanations data setup completed\", \"Choosing LightGBM as the surrogate model for explanations\", \"Computation of engineered features started\", \"Computation of engineered features completed\", \"Computation of raw features started\", \"Computation of raw features completed\", \"Best run model explanations completed\"]}]}, {\"name\": \"log_loss\", \"run_id\": \"AutoML_38a858e6-9d41-4f16-95e8-75a0af28f245\", \"categories\": [0], \"series\": [{\"data\": [0.28843394881110923]}]}, {\"name\": \"recall_score_weighted\", \"run_id\": \"AutoML_38a858e6-9d41-4f16-95e8-75a0af28f245\", \"categories\": [0], \"series\": [{\"data\": [0.8595009596928983]}]}, {\"name\": \"f1_score_macro\", \"run_id\": \"AutoML_38a858e6-9d41-4f16-95e8-75a0af28f245\", \"categories\": [0], \"series\": [{\"data\": [0.7960497268769509]}]}, {\"name\": \"f1_score_weighted\", \"run_id\": \"AutoML_38a858e6-9d41-4f16-95e8-75a0af28f245\", \"categories\": [0], \"series\": [{\"data\": [0.8550467093506913]}]}, {\"name\": \"average_precision_score_macro\", \"run_id\": \"AutoML_38a858e6-9d41-4f16-95e8-75a0af28f245\", \"categories\": [0], \"series\": [{\"data\": [0.894213347267832]}]}, {\"name\": \"precision_score_macro\", \"run_id\": \"AutoML_38a858e6-9d41-4f16-95e8-75a0af28f245\", \"categories\": [0], \"series\": [{\"data\": [0.8180357142857142]}]}, {\"name\": \"average_precision_score_weighted\", \"run_id\": \"AutoML_38a858e6-9d41-4f16-95e8-75a0af28f245\", \"categories\": [0], \"series\": [{\"data\": [0.9353711980884474]}]}, {\"name\": \"average_precision_score_micro\", \"run_id\": \"AutoML_38a858e6-9d41-4f16-95e8-75a0af28f245\", \"categories\": [0], \"series\": [{\"data\": [0.9504348665131177]}]}, {\"name\": \"recall_score_micro\", \"run_id\": \"AutoML_38a858e6-9d41-4f16-95e8-75a0af28f245\", \"categories\": [0], \"series\": [{\"data\": [0.8595009596928983]}]}, {\"name\": \"accuracy\", \"run_id\": \"AutoML_38a858e6-9d41-4f16-95e8-75a0af28f245\", \"categories\": [0], \"series\": [{\"data\": [0.8595009596928983]}]}, {\"name\": \"matthews_correlation\", \"run_id\": \"AutoML_38a858e6-9d41-4f16-95e8-75a0af28f245\", \"categories\": [0], \"series\": [{\"data\": [0.5968570021677904]}]}, {\"name\": \"balanced_accuracy\", \"run_id\": \"AutoML_38a858e6-9d41-4f16-95e8-75a0af28f245\", \"categories\": [0], \"series\": [{\"data\": [0.7800300917750761]}]}, {\"name\": \"f1_score_micro\", \"run_id\": \"AutoML_38a858e6-9d41-4f16-95e8-75a0af28f245\", \"categories\": [0], \"series\": [{\"data\": [0.8595009596928983]}]}, {\"name\": \"AUC_macro\", \"run_id\": \"AutoML_38a858e6-9d41-4f16-95e8-75a0af28f245\", \"categories\": [0], \"series\": [{\"data\": [0.9216065718114572]}]}, {\"name\": \"AUC_micro\", \"run_id\": \"AutoML_38a858e6-9d41-4f16-95e8-75a0af28f245\", \"categories\": [0], \"series\": [{\"data\": [0.9480349689251071]}]}, {\"name\": \"precision_score_micro\", \"run_id\": \"AutoML_38a858e6-9d41-4f16-95e8-75a0af28f245\", \"categories\": [0], \"series\": [{\"data\": [0.8595009596928983]}]}, {\"name\": \"precision_score_weighted\", \"run_id\": \"AutoML_38a858e6-9d41-4f16-95e8-75a0af28f245\", \"categories\": [0], \"series\": [{\"data\": [0.8540611461475185]}]}, {\"name\": \"recall_score_macro\", \"run_id\": \"AutoML_38a858e6-9d41-4f16-95e8-75a0af28f245\", \"categories\": [0], \"series\": [{\"data\": [0.7800300917750761]}]}, {\"name\": \"norm_macro_recall\", \"run_id\": \"AutoML_38a858e6-9d41-4f16-95e8-75a0af28f245\", \"categories\": [0], \"series\": [{\"data\": [0.5600601835501522]}]}, {\"name\": \"weighted_accuracy\", \"run_id\": \"AutoML_38a858e6-9d41-4f16-95e8-75a0af28f245\", \"categories\": [0], \"series\": [{\"data\": [0.9052831733832093]}]}, {\"name\": \"AUC_weighted\", \"run_id\": \"AutoML_38a858e6-9d41-4f16-95e8-75a0af28f245\", \"categories\": [0], \"series\": [{\"data\": [0.9216065718114571]}]}], \"run_logs\": \"\\nRun is completed.\", \"graph\": {}, \"widget_settings\": {\"childWidgetDisplay\": \"popup\", \"send_telemetry\": false, \"log_level\": \"INFO\", \"sdk_version\": \"1.14.0\"}, \"loading\": false}"
     },
     "metadata": {},
     "output_type": "display_data"
    }
   ],
   "source": [
    "#View the results in a widget\n",
    "from azureml.widgets import RunDetails\n",
    "RunDetails(run).show()\n",
    "#While this is running you can look at the compute in the portal to see the state of the nodes"
   ]
  },
  {
   "cell_type": "code",
   "execution_count": 106,
   "metadata": {},
   "outputs": [
    {
     "data": {
      "text/plain": [
       "{'runId': 'AutoML_38a858e6-9d41-4f16-95e8-75a0af28f245',\n",
       " 'target': 'automlcluster',\n",
       " 'status': 'Completed',\n",
       " 'startTimeUtc': '2020-11-17T17:12:13.19588Z',\n",
       " 'endTimeUtc': '2020-11-17T17:27:27.475658Z',\n",
       " 'properties': {'num_iterations': '20',\n",
       "  'training_type': 'TrainFull',\n",
       "  'acquisition_function': 'EI',\n",
       "  'primary_metric': 'accuracy',\n",
       "  'train_split': '0',\n",
       "  'acquisition_parameter': '0',\n",
       "  'num_cross_validation': None,\n",
       "  'target': 'automlcluster',\n",
       "  'AMLSettingsJsonString': '{\"path\":null,\"name\":\"autoMLCensusRemoteONNX04\",\"subscription_id\":\"6a0ec27b-1203-46fe-ade0-8c3003d5e4bc\",\"resource_group\":\"MLServiceWrokspace\",\"workspace_name\":\"MLServiceWrokspace\",\"region\":\"northeurope\",\"compute_target\":\"automlcluster\",\"spark_service\":null,\"azure_service\":\"remote\",\"_local_managed_run_id\":null,\"many_models\":false,\"iterations\":20,\"primary_metric\":\"accuracy\",\"task_type\":\"classification\",\"data_script\":null,\"validation_size\":0.0,\"n_cross_validations\":null,\"y_min\":null,\"y_max\":null,\"num_classes\":null,\"featurization\":\"auto\",\"_ignore_package_version_incompatibilities\":false,\"is_timeseries\":false,\"max_cores_per_iteration\":1,\"max_concurrent_iterations\":20,\"iteration_timeout_minutes\":null,\"mem_in_mb\":null,\"enforce_time_on_windows\":false,\"experiment_timeout_minutes\":8640,\"experiment_exit_score\":null,\"whitelist_models\":null,\"blacklist_algos\":[\"TensorFlowLinearClassifier\",\"TensorFlowDNN\"],\"supported_models\":[\"TensorFlowLinearClassifier\",\"GradientBoosting\",\"KNN\",\"BernoulliNaiveBayes\",\"SVM\",\"XGBoostClassifier\",\"LogisticRegression\",\"RandomForest\",\"TensorFlowDNN\",\"LightGBM\",\"LinearSVM\",\"ExtremeRandomTrees\",\"DecisionTree\",\"AveragedPerceptronClassifier\",\"MultinomialNaiveBayes\",\"SGD\"],\"auto_blacklist\":true,\"blacklist_samples_reached\":false,\"exclude_nan_labels\":true,\"verbosity\":20,\"_debug_log\":\"azureml_automl.log\",\"show_warnings\":false,\"model_explainability\":true,\"service_url\":null,\"sdk_url\":null,\"sdk_packages\":null,\"enable_onnx_compatible_models\":true,\"enable_split_onnx_featurizer_estimator_models\":false,\"vm_type\":\"STANDARD_D2_V2\",\"telemetry_verbosity\":20,\"send_telemetry\":true,\"enable_dnn\":false,\"force_text_dnn\":false,\"enable_feature_sweeping\":false,\"enable_early_stopping\":false,\"early_stopping_n_iters\":10,\"metrics\":null,\"enable_ensembling\":false,\"enable_stack_ensembling\":false,\"ensemble_iterations\":15,\"enable_tf\":false,\"enable_subsampling\":false,\"subsample_seed\":null,\"enable_nimbusml\":false,\"enable_streaming\":false,\"force_streaming\":false,\"track_child_runs\":true,\"label_column_name\":\"Loan\",\"weight_column_name\":null,\"cv_split_column_names\":null,\"enable_local_managed\":false,\"cost_mode\":1,\"lag_length\":0,\"metric_operation\":\"maximize\",\"preprocess\":true,\"scenario\":\"SDK-1.13.0\"}',\n",
       "  'DataPrepJsonString': '{\\\\\"training_data\\\\\": \\\\\"{\\\\\\\\\\\\\"blocks\\\\\\\\\\\\\": [{\\\\\\\\\\\\\"id\\\\\\\\\\\\\": \\\\\\\\\\\\\"aa690ea2-6ac2-486b-85e8-2102167e116f\\\\\\\\\\\\\", \\\\\\\\\\\\\"type\\\\\\\\\\\\\": \\\\\\\\\\\\\"Microsoft.DPrep.GetDatastoreFilesBlock\\\\\\\\\\\\\", \\\\\\\\\\\\\"arguments\\\\\\\\\\\\\": {\\\\\\\\\\\\\"datastores\\\\\\\\\\\\\": [{\\\\\\\\\\\\\"datastoreName\\\\\\\\\\\\\": \\\\\\\\\\\\\"workspaceblobstore\\\\\\\\\\\\\", \\\\\\\\\\\\\"path\\\\\\\\\\\\\": \\\\\\\\\\\\\"storesdataCensus/X_trainCensus.csv\\\\\\\\\\\\\", \\\\\\\\\\\\\"resourceGroup\\\\\\\\\\\\\": \\\\\\\\\\\\\"MLServiceWrokspace\\\\\\\\\\\\\", \\\\\\\\\\\\\"subscription\\\\\\\\\\\\\": \\\\\\\\\\\\\"6a0ec27b-1203-46fe-ade0-8c3003d5e4bc\\\\\\\\\\\\\", \\\\\\\\\\\\\"workspaceName\\\\\\\\\\\\\": \\\\\\\\\\\\\"MLServiceWrokspace\\\\\\\\\\\\\"}]}, \\\\\\\\\\\\\"localData\\\\\\\\\\\\\": {}, \\\\\\\\\\\\\"isEnabled\\\\\\\\\\\\\": true, \\\\\\\\\\\\\"name\\\\\\\\\\\\\": null, \\\\\\\\\\\\\"annotation\\\\\\\\\\\\\": null}, {\\\\\\\\\\\\\"id\\\\\\\\\\\\\": \\\\\\\\\\\\\"2ac5fbdf-9028-4e6c-8f3a-6481ff677572\\\\\\\\\\\\\", \\\\\\\\\\\\\"type\\\\\\\\\\\\\": \\\\\\\\\\\\\"Microsoft.DPrep.ParseDelimitedBlock\\\\\\\\\\\\\", \\\\\\\\\\\\\"arguments\\\\\\\\\\\\\": {\\\\\\\\\\\\\"columnHeadersMode\\\\\\\\\\\\\": 3, \\\\\\\\\\\\\"fileEncoding\\\\\\\\\\\\\": 0, \\\\\\\\\\\\\"handleQuotedLineBreaks\\\\\\\\\\\\\": false, \\\\\\\\\\\\\"preview\\\\\\\\\\\\\": false, \\\\\\\\\\\\\"separator\\\\\\\\\\\\\": \\\\\\\\\\\\\",\\\\\\\\\\\\\", \\\\\\\\\\\\\"skipRows\\\\\\\\\\\\\": 0, \\\\\\\\\\\\\"skipRowsMode\\\\\\\\\\\\\": 0}, \\\\\\\\\\\\\"localData\\\\\\\\\\\\\": {}, \\\\\\\\\\\\\"isEnabled\\\\\\\\\\\\\": true, \\\\\\\\\\\\\"name\\\\\\\\\\\\\": null, \\\\\\\\\\\\\"annotation\\\\\\\\\\\\\": null}, {\\\\\\\\\\\\\"id\\\\\\\\\\\\\": \\\\\\\\\\\\\"1d447349-1c47-4a5f-b334-1e861bbecb50\\\\\\\\\\\\\", \\\\\\\\\\\\\"type\\\\\\\\\\\\\": \\\\\\\\\\\\\"Microsoft.DPrep.DropColumnsBlock\\\\\\\\\\\\\", \\\\\\\\\\\\\"arguments\\\\\\\\\\\\\": {\\\\\\\\\\\\\"columns\\\\\\\\\\\\\": {\\\\\\\\\\\\\"type\\\\\\\\\\\\\": 0, \\\\\\\\\\\\\"details\\\\\\\\\\\\\": {\\\\\\\\\\\\\"selectedColumns\\\\\\\\\\\\\": [\\\\\\\\\\\\\"Path\\\\\\\\\\\\\"]}}}, \\\\\\\\\\\\\"localData\\\\\\\\\\\\\": {}, \\\\\\\\\\\\\"isEnabled\\\\\\\\\\\\\": true, \\\\\\\\\\\\\"name\\\\\\\\\\\\\": null, \\\\\\\\\\\\\"annotation\\\\\\\\\\\\\": null}, {\\\\\\\\\\\\\"id\\\\\\\\\\\\\": \\\\\\\\\\\\\"e6d547e9-937e-4414-b96a-4055e10a1e1e\\\\\\\\\\\\\", \\\\\\\\\\\\\"type\\\\\\\\\\\\\": \\\\\\\\\\\\\"Microsoft.DPrep.SetColumnTypesBlock\\\\\\\\\\\\\", \\\\\\\\\\\\\"arguments\\\\\\\\\\\\\": {\\\\\\\\\\\\\"columnConversion\\\\\\\\\\\\\": [{\\\\\\\\\\\\\"column\\\\\\\\\\\\\": {\\\\\\\\\\\\\"type\\\\\\\\\\\\\": 2, \\\\\\\\\\\\\"details\\\\\\\\\\\\\": {\\\\\\\\\\\\\"selectedColumn\\\\\\\\\\\\\": \\\\\\\\\\\\\"Age\\\\\\\\\\\\\"}}, \\\\\\\\\\\\\"typeProperty\\\\\\\\\\\\\": 3}, {\\\\\\\\\\\\\"column\\\\\\\\\\\\\": {\\\\\\\\\\\\\"type\\\\\\\\\\\\\": 2, \\\\\\\\\\\\\"details\\\\\\\\\\\\\": {\\\\\\\\\\\\\"selectedColumn\\\\\\\\\\\\\": \\\\\\\\\\\\\"Workclass\\\\\\\\\\\\\"}}, \\\\\\\\\\\\\"typeProperty\\\\\\\\\\\\\": 0}, {\\\\\\\\\\\\\"column\\\\\\\\\\\\\": {\\\\\\\\\\\\\"type\\\\\\\\\\\\\": 2, \\\\\\\\\\\\\"details\\\\\\\\\\\\\": {\\\\\\\\\\\\\"selectedColumn\\\\\\\\\\\\\": \\\\\\\\\\\\\"Education-Num\\\\\\\\\\\\\"}}, \\\\\\\\\\\\\"typeProperty\\\\\\\\\\\\\": 3}, {\\\\\\\\\\\\\"column\\\\\\\\\\\\\": {\\\\\\\\\\\\\"type\\\\\\\\\\\\\": 2, \\\\\\\\\\\\\"details\\\\\\\\\\\\\": {\\\\\\\\\\\\\"selectedColumn\\\\\\\\\\\\\": \\\\\\\\\\\\\"Marital Status\\\\\\\\\\\\\"}}, \\\\\\\\\\\\\"typeProperty\\\\\\\\\\\\\": 0}, {\\\\\\\\\\\\\"column\\\\\\\\\\\\\": {\\\\\\\\\\\\\"type\\\\\\\\\\\\\": 2, \\\\\\\\\\\\\"details\\\\\\\\\\\\\": {\\\\\\\\\\\\\"selectedColumn\\\\\\\\\\\\\": \\\\\\\\\\\\\"Occupation\\\\\\\\\\\\\"}}, \\\\\\\\\\\\\"typeProperty\\\\\\\\\\\\\": 0}, {\\\\\\\\\\\\\"column\\\\\\\\\\\\\": {\\\\\\\\\\\\\"type\\\\\\\\\\\\\": 2, \\\\\\\\\\\\\"details\\\\\\\\\\\\\": {\\\\\\\\\\\\\"selectedColumn\\\\\\\\\\\\\": \\\\\\\\\\\\\"Relationship\\\\\\\\\\\\\"}}, \\\\\\\\\\\\\"typeProperty\\\\\\\\\\\\\": 0}, {\\\\\\\\\\\\\"column\\\\\\\\\\\\\": {\\\\\\\\\\\\\"type\\\\\\\\\\\\\": 2, \\\\\\\\\\\\\"details\\\\\\\\\\\\\": {\\\\\\\\\\\\\"selectedColumn\\\\\\\\\\\\\": \\\\\\\\\\\\\"Race\\\\\\\\\\\\\"}}, \\\\\\\\\\\\\"typeProperty\\\\\\\\\\\\\": 0}, {\\\\\\\\\\\\\"column\\\\\\\\\\\\\": {\\\\\\\\\\\\\"type\\\\\\\\\\\\\": 2, \\\\\\\\\\\\\"details\\\\\\\\\\\\\": {\\\\\\\\\\\\\"selectedColumn\\\\\\\\\\\\\": \\\\\\\\\\\\\"Sex\\\\\\\\\\\\\"}}, \\\\\\\\\\\\\"typeProperty\\\\\\\\\\\\\": 0}, {\\\\\\\\\\\\\"column\\\\\\\\\\\\\": {\\\\\\\\\\\\\"type\\\\\\\\\\\\\": 2, \\\\\\\\\\\\\"details\\\\\\\\\\\\\": {\\\\\\\\\\\\\"selectedColumn\\\\\\\\\\\\\": \\\\\\\\\\\\\"Capital Gain\\\\\\\\\\\\\"}}, \\\\\\\\\\\\\"typeProperty\\\\\\\\\\\\\": 3}, {\\\\\\\\\\\\\"column\\\\\\\\\\\\\": {\\\\\\\\\\\\\"type\\\\\\\\\\\\\": 2, \\\\\\\\\\\\\"details\\\\\\\\\\\\\": {\\\\\\\\\\\\\"selectedColumn\\\\\\\\\\\\\": \\\\\\\\\\\\\"Capital Loss\\\\\\\\\\\\\"}}, \\\\\\\\\\\\\"typeProperty\\\\\\\\\\\\\": 3}, {\\\\\\\\\\\\\"column\\\\\\\\\\\\\": {\\\\\\\\\\\\\"type\\\\\\\\\\\\\": 2, \\\\\\\\\\\\\"details\\\\\\\\\\\\\": {\\\\\\\\\\\\\"selectedColumn\\\\\\\\\\\\\": \\\\\\\\\\\\\"Hours per week\\\\\\\\\\\\\"}}, \\\\\\\\\\\\\"typeProperty\\\\\\\\\\\\\": 3}, {\\\\\\\\\\\\\"column\\\\\\\\\\\\\": {\\\\\\\\\\\\\"type\\\\\\\\\\\\\": 2, \\\\\\\\\\\\\"details\\\\\\\\\\\\\": {\\\\\\\\\\\\\"selectedColumn\\\\\\\\\\\\\": \\\\\\\\\\\\\"Country\\\\\\\\\\\\\"}}, \\\\\\\\\\\\\"typeProperty\\\\\\\\\\\\\": 0}, {\\\\\\\\\\\\\"column\\\\\\\\\\\\\": {\\\\\\\\\\\\\"type\\\\\\\\\\\\\": 2, \\\\\\\\\\\\\"details\\\\\\\\\\\\\": {\\\\\\\\\\\\\"selectedColumn\\\\\\\\\\\\\": \\\\\\\\\\\\\"Loan\\\\\\\\\\\\\"}}, \\\\\\\\\\\\\"typeProperty\\\\\\\\\\\\\": 1}]}, \\\\\\\\\\\\\"localData\\\\\\\\\\\\\": {}, \\\\\\\\\\\\\"isEnabled\\\\\\\\\\\\\": true, \\\\\\\\\\\\\"name\\\\\\\\\\\\\": null, \\\\\\\\\\\\\"annotation\\\\\\\\\\\\\": null}], \\\\\\\\\\\\\"inspectors\\\\\\\\\\\\\": [], \\\\\\\\\\\\\"meta\\\\\\\\\\\\\": {\\\\\\\\\\\\\"savedDatasetId\\\\\\\\\\\\\": \\\\\\\\\\\\\"3f71f00f-1575-48e6-a666-1d107213557b\\\\\\\\\\\\\", \\\\\\\\\\\\\"datasetType\\\\\\\\\\\\\": \\\\\\\\\\\\\"tabular\\\\\\\\\\\\\", \\\\\\\\\\\\\"subscriptionId\\\\\\\\\\\\\": \\\\\\\\\\\\\"6a0ec27b-1203-46fe-ade0-8c3003d5e4bc\\\\\\\\\\\\\", \\\\\\\\\\\\\"workspaceId\\\\\\\\\\\\\": \\\\\\\\\\\\\"b77f06f9-80dd-4231-9153-6a77c47edd72\\\\\\\\\\\\\", \\\\\\\\\\\\\"workspaceLocation\\\\\\\\\\\\\": \\\\\\\\\\\\\"northeurope\\\\\\\\\\\\\"}}\\\\\", \\\\\"activities\\\\\": 0}',\n",
       "  'EnableSubsampling': 'False',\n",
       "  'runTemplate': 'AutoML',\n",
       "  'azureml.runsource': 'automl',\n",
       "  'display_task_type': 'classification',\n",
       "  'dependencies_versions': '{\"azureml-widgets\": \"1.14.0\", \"azureml-train\": \"1.14.0\", \"azureml-train-restclients-hyperdrive\": \"1.14.0\", \"azureml-train-core\": \"1.14.0\", \"azureml-train-automl\": \"1.14.0\", \"azureml-train-automl-runtime\": \"1.14.0\", \"azureml-train-automl-client\": \"1.14.0.post1\", \"azureml-tensorboard\": \"1.14.0\", \"azureml-telemetry\": \"1.14.0\", \"azureml-sdk\": \"1.14.0\", \"azureml-samples\": \"0+unknown\", \"azureml-pipeline\": \"1.14.0\", \"azureml-pipeline-steps\": \"1.14.0\", \"azureml-pipeline-core\": \"1.14.0\", \"azureml-opendatasets\": \"1.14.0\", \"azureml-model-management-sdk\": \"1.0.1b6.post1\", \"azureml-mlflow\": \"1.14.0\", \"azureml-interpret\": \"1.14.0\", \"azureml-explain-model\": \"1.14.0\", \"azureml-defaults\": \"1.14.0\", \"azureml-dataset-runtime\": \"1.14.0\", \"azureml-dataprep\": \"2.1.5\", \"azureml-dataprep-native\": \"21.0.1\", \"azureml-datadrift\": \"1.14.0\", \"azureml-core\": \"1.14.0.post1\", \"azureml-contrib-services\": \"1.14.0\", \"azureml-contrib-server\": \"1.14.0\", \"azureml-contrib-reinforcementlearning\": \"1.14.0\", \"azureml-contrib-pipeline-steps\": \"1.14.0\", \"azureml-contrib-notebook\": \"1.14.0.post1\", \"azureml-contrib-interpret\": \"1.14.0\", \"azureml-contrib-gbdt\": \"1.14.0\", \"azureml-contrib-fairness\": \"1.14.0\", \"azureml-contrib-dataset\": \"1.14.0\", \"azureml-cli-common\": \"1.14.0\", \"azureml-automl-runtime\": \"1.14.0.post1\", \"azureml-automl-core\": \"1.14.0\", \"azureml-accel-models\": \"1.14.0\"}',\n",
       "  '_aml_system_scenario_identification': 'Remote.Parent',\n",
       "  'ClientType': 'SDK',\n",
       "  'environment_cpu_name': 'AzureML-AutoML',\n",
       "  'environment_cpu_version': '44',\n",
       "  'environment_gpu_name': 'AzureML-AutoML-GPU',\n",
       "  'environment_gpu_version': '32',\n",
       "  'root_attribution': 'automl',\n",
       "  'attribution': 'AutoML',\n",
       "  'Orchestrator': 'AutoML',\n",
       "  'CancelUri': 'https://northeurope.experiments.azureml.net/jasmine/v1.0/subscriptions/6a0ec27b-1203-46fe-ade0-8c3003d5e4bc/resourceGroups/MLServiceWrokspace/providers/Microsoft.MachineLearningServices/workspaces/MLServiceWrokspace/experiment/autoMLCensusRemoteONNX04/cancel/AutoML_38a858e6-9d41-4f16-95e8-75a0af28f245',\n",
       "  'azureml.git.repository_uri': 'git@github.com:rolester/AzureMLPythonSDKDemos.git',\n",
       "  'mlflow.source.git.repoURL': 'git@github.com:rolester/AzureMLPythonSDKDemos.git',\n",
       "  'azureml.git.branch': 'master',\n",
       "  'mlflow.source.git.branch': 'master',\n",
       "  'azureml.git.commit': '7083dc7a7486c40194dcfbabebf706cc13b9fc09',\n",
       "  'mlflow.source.git.commit': '7083dc7a7486c40194dcfbabebf706cc13b9fc09',\n",
       "  'azureml.git.dirty': 'False',\n",
       "  'ClientSdkVersion': '1.17.0',\n",
       "  'snapshotId': '00000000-0000-0000-0000-000000000000',\n",
       "  'SetupRunId': 'AutoML_38a858e6-9d41-4f16-95e8-75a0af28f245_setup',\n",
       "  'SetupRunContainerId': 'dcid.AutoML_38a858e6-9d41-4f16-95e8-75a0af28f245_setup',\n",
       "  'FeaturizationRunJsonPath': 'featurizer_container.json',\n",
       "  'FeaturizationRunId': 'AutoML_38a858e6-9d41-4f16-95e8-75a0af28f245_featurize',\n",
       "  'ProblemInfoJsonString': '{\"dataset_num_categorical\": 0, \"is_sparse\": true, \"subsampling\": false, \"dataset_classes\": 2, \"dataset_features\": 90, \"dataset_samples\": 23443, \"single_frequency_class_detected\": false}',\n",
       "  'ModelExplainRunId': 'AutoML_38a858e6-9d41-4f16-95e8-75a0af28f245_ModelExplain'},\n",
       " 'inputDatasets': [{'dataset': {'id': '3f71f00f-1575-48e6-a666-1d107213557b'}, 'consumptionDetails': {'type': 'RunInput', 'inputName': 'training_data', 'mechanism': 'Direct'}}],\n",
       " 'outputDatasets': [],\n",
       " 'logFiles': {}}"
      ]
     },
     "execution_count": 106,
     "metadata": {},
     "output_type": "execute_result"
    }
   ],
   "source": [
    "run.wait_for_completion()"
   ]
  },
  {
   "cell_type": "code",
   "execution_count": 107,
   "metadata": {},
   "outputs": [
    {
     "name": "stdout",
     "output_type": "stream",
     "text": [
      "Experiment(Name: autoMLCensusRemoteONNX04,\n",
      "Workspace: MLServiceWrokspace)\n"
     ]
    }
   ],
   "source": [
    "for e in Experiment.list(ws):\n",
    "        if e.name == experiment_name:\n",
    "            expr = e\n",
    "print(expr)"
   ]
  },
  {
   "cell_type": "code",
   "execution_count": 108,
   "metadata": {},
   "outputs": [],
   "source": [
    "#for r in expr.get_runs():\n",
    "#    print(r.name)\n",
    "#    if r.name == 'AutoML_25eb02e4-3933-44a0-a885-3fba532d54bc':\n",
    "#        print('a')\n",
    "#\n",
    "##AutoML_25eb02e4-3933-44a0-a885-3fba532d54bc"
   ]
  },
  {
   "cell_type": "code",
   "execution_count": 109,
   "metadata": {},
   "outputs": [
    {
     "name": "stderr",
     "output_type": "stream",
     "text": [
      "20it [00:17,  1.13it/s]\n"
     ]
    }
   ],
   "source": [
    "from tqdm import tqdm\n",
    "runs = {}\n",
    "run_metrics = {}\n",
    "runsorder = {}\n",
    "i=0\n",
    "\n",
    "for r in expr.get_runs():\n",
    "    #if r.name == 'AutoML_25eb02e4-3933-44a0-a885-3fba532d54bc':\n",
    "    metrics = r.get_metrics()\n",
    "    for s in tqdm(r.get_children()):\n",
    "        #print(s.name)\n",
    "        metrics = s.get_metrics()\n",
    "        if 'accuracy' in metrics.keys():\n",
    "            i=i+1\n",
    "            runs[s.id] = s\n",
    "            run_metrics[s.id] = metrics"
   ]
  },
  {
   "cell_type": "code",
   "execution_count": 110,
   "metadata": {
    "scrolled": true
   },
   "outputs": [],
   "source": [
    "best_run_id = min(run_metrics, key = lambda k : run_metrics[k]['accuracy'])"
   ]
  },
  {
   "cell_type": "code",
   "execution_count": 111,
   "metadata": {
    "scrolled": true
   },
   "outputs": [
    {
     "data": {
      "text/html": [
       "['accuracy_table', 'automl_driver.py', 'azureml-logs/55_azureml-execution-tvmps_2c48aba30b460aba05a20394d33a8306787732b691ad3d9823a56443809055ea_d.txt', 'azureml-logs/65_job_prep-tvmps_2c48aba30b460aba05a20394d33a8306787732b691ad3d9823a56443809055ea_d.txt', 'azureml-logs/70_driver_log.txt', 'azureml-logs/75_job_post-tvmps_2c48aba30b460aba05a20394d33a8306787732b691ad3d9823a56443809055ea_d.txt', 'azureml-logs/process_info.json', 'azureml-logs/process_status.json', 'confusion_matrix', 'logs/azureml/101_azureml.log', 'logs/azureml/azureml_automl.log', 'logs/azureml/dataprep/python_span_67f21b62-48ec-4123-aa48-d9983e949bd2.jsonl', 'logs/azureml/dataprep/python_span_934d5f15-235e-4575-8d26-8dc5d85782c5.jsonl', 'logs/azureml/job_prep_azureml.log', 'logs/azureml/job_release_azureml.log', 'outputs/conda_env_v_1_0_0.yml', 'outputs/env_dependencies.json', 'outputs/model.onnx', 'outputs/model.pkl', 'outputs/model_onnx.json', 'outputs/pipeline_graph.json', 'outputs/scoring_file_v_1_0_0.py']"
      ],
      "text/plain": [
       "['accuracy_table',\n",
       " 'automl_driver.py',\n",
       " 'azureml-logs/55_azureml-execution-tvmps_2c48aba30b460aba05a20394d33a8306787732b691ad3d9823a56443809055ea_d.txt',\n",
       " 'azureml-logs/65_job_prep-tvmps_2c48aba30b460aba05a20394d33a8306787732b691ad3d9823a56443809055ea_d.txt',\n",
       " 'azureml-logs/70_driver_log.txt',\n",
       " 'azureml-logs/75_job_post-tvmps_2c48aba30b460aba05a20394d33a8306787732b691ad3d9823a56443809055ea_d.txt',\n",
       " 'azureml-logs/process_info.json',\n",
       " 'azureml-logs/process_status.json',\n",
       " 'confusion_matrix',\n",
       " 'logs/azureml/101_azureml.log',\n",
       " 'logs/azureml/azureml_automl.log',\n",
       " 'logs/azureml/dataprep/python_span_67f21b62-48ec-4123-aa48-d9983e949bd2.jsonl',\n",
       " 'logs/azureml/dataprep/python_span_934d5f15-235e-4575-8d26-8dc5d85782c5.jsonl',\n",
       " 'logs/azureml/job_prep_azureml.log',\n",
       " 'logs/azureml/job_release_azureml.log',\n",
       " 'outputs/conda_env_v_1_0_0.yml',\n",
       " 'outputs/env_dependencies.json',\n",
       " 'outputs/model.onnx',\n",
       " 'outputs/model.pkl',\n",
       " 'outputs/model_onnx.json',\n",
       " 'outputs/pipeline_graph.json',\n",
       " 'outputs/scoring_file_v_1_0_0.py']"
      ]
     },
     "execution_count": 111,
     "metadata": {},
     "output_type": "execute_result"
    }
   ],
   "source": [
    "bestrun = runs[best_run_id]\n",
    "bestrun.get_file_names()"
   ]
  },
  {
   "cell_type": "code",
   "execution_count": 112,
   "metadata": {},
   "outputs": [
    {
     "name": "stdout",
     "output_type": "stream",
     "text": [
      "outputs/model.onnx\n"
     ]
    }
   ],
   "source": [
    "#Get the model filename\n",
    "for f in bestrun.get_file_names():\n",
    "    if(f[-5:] == '.onnx'):\n",
    "        modelfilename = f\n",
    "print(modelfilename)"
   ]
  },
  {
   "cell_type": "code",
   "execution_count": 179,
   "metadata": {},
   "outputs": [],
   "source": [
    "#Download model\n",
    "modelload = bestrun.register_model(model_name='model', model_path=modelfilename)\n",
    "onnxfilename = modelload.download(exist_ok = True)"
   ]
  },
  {
   "cell_type": "code",
   "execution_count": 180,
   "metadata": {},
   "outputs": [],
   "source": [
    "import onnx\n",
    "onnx_model = onnx.load_model(onnxfilename)\n"
   ]
  },
  {
   "cell_type": "code",
   "execution_count": 187,
   "metadata": {},
   "outputs": [
    {
     "name": "stderr",
     "output_type": "stream",
     "text": [
      "2020/11/17 18:01:37 WARNING mlflow.models.model: Logging model metadata to the tracking server has failed, possibly due older server version. The model artifacts have been logged successfully under azureml://experiments/adultc_predict_exp/runs/ecfb7f39-8889-4d9b-8d1d-bf5152c9edb5/artifacts. In addition to exporting model artifacts, MLflow clients 1.7.0 and above attempt to record model metadata to the  tracking store. If logging to a mlflow server via REST, consider  upgrading the server version to MLflow 1.7.0 or above.\n",
      "Registered model 'adultc_predict' already exists. Creating a new version of this model...\n",
      "Created version '3' of model 'adultc_predict'.\n"
     ]
    }
   ],
   "source": [
    "import mlflow\n",
    "import mlflow.onnx\n",
    "\n",
    "from mlflow.models.signature import infer_signature\n",
    "\n",
    "experiment_name = 'adultc_predict_exp'\n",
    "artifact_path = 'adultc_predict_artifact'\n",
    "\n",
    "mlflow.set_tracking_uri(ws.get_mlflow_tracking_uri())\n",
    "mlflow.set_experiment(experiment_name)\n",
    "\n",
    "with mlflow.start_run() as run:\n",
    "    # Infer signature\n",
    "    input_sample = X.to_pandas_dataframe().head(1)\n",
    "    output_sample = pd.DataFrame(columns=['output_label'], data=[1])\n",
    "    signature = infer_signature(input_sample, output_sample)\n",
    "\n",
    "    # Save the model to the outputs directory for capture\n",
    "    mlflow.onnx.log_model(onnx_model, artifact_path, signature=signature, input_example=input_sample)\n",
    "\n",
    "    # Register the model to AML model registry\n",
    "    mlflow.register_model('runs:/' + run.info.run_id + '/' + artifact_path, 'adultc_predict')"
   ]
  }
 ],
 "metadata": {
  "kernel_info": {
   "name": "python3-azureml"
  },
  "kernelspec": {
   "display_name": "Python 3.6 - AzureML",
   "language": "python",
   "name": "python3-azureml"
  },
  "language_info": {
   "codemirror_mode": {
    "name": "ipython",
    "version": 3
   },
   "file_extension": ".py",
   "mimetype": "text/x-python",
   "name": "python",
   "nbconvert_exporter": "python",
   "pygments_lexer": "ipython3",
   "version": "3.6.9"
  },
  "nteract": {
   "version": "nteract-front-end@1.0.0"
  }
 },
 "nbformat": 4,
 "nbformat_minor": 4
}
